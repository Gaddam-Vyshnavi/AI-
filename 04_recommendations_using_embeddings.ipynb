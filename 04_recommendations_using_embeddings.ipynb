{
 "cells": [
  {
   "cell_type": "markdown",
   "metadata": {},
   "source": [
    "## Using Embeddings for recommendations"
   ]
  },
  {
   "cell_type": "code",
   "execution_count": 1,
   "metadata": {},
   "outputs": [
    {
     "name": "stderr",
     "output_type": "stream",
     "text": [
      "Using TensorFlow backend.\n"
     ]
    }
   ],
   "source": [
    "import os\n",
    "import numpy as np\n",
    "import pandas as pd\n",
    "from keras.models import Sequential, Model\n",
    "from keras.layers import Dense, Activation, Embedding, Flatten, Dropout\n",
    "from keras.layers import Input, concatenate\n",
    "from keras import regularizers, initializers\n",
    "from sklearn.model_selection import train_test_split"
   ]
  },
  {
   "cell_type": "code",
   "execution_count": 2,
   "metadata": {},
   "outputs": [],
   "source": [
    "rating = pd.read_csv(\"data/ratings.csv\")\n",
    "\n",
    "movie = pd.read_csv(\"data/movies.csv\")"
   ]
  },
  {
   "cell_type": "code",
   "execution_count": 3,
   "metadata": {},
   "outputs": [
    {
     "name": "stdout",
     "output_type": "stream",
     "text": [
      "   userId  movieId  rating   timestamp\n",
      "0       1       31     2.5  1260759144\n",
      "1       1     1029     3.0  1260759179\n",
      "2       1     1061     3.0  1260759182\n",
      "3       1     1129     2.0  1260759185\n",
      "4       1     1172     4.0  1260759205\n",
      "userId         int64\n",
      "movieId        int64\n",
      "rating       float64\n",
      "timestamp      int64\n",
      "dtype: object\n",
      "   movieId                               title  \\\n",
      "0        1                    Toy Story (1995)   \n",
      "1        2                      Jumanji (1995)   \n",
      "2        3             Grumpier Old Men (1995)   \n",
      "3        4            Waiting to Exhale (1995)   \n",
      "4        5  Father of the Bride Part II (1995)   \n",
      "\n",
      "                                        genres  \n",
      "0  Adventure|Animation|Children|Comedy|Fantasy  \n",
      "1                   Adventure|Children|Fantasy  \n",
      "2                               Comedy|Romance  \n",
      "3                         Comedy|Drama|Romance  \n",
      "4                                       Comedy  \n",
      "movieId     int64\n",
      "title      object\n",
      "genres     object\n",
      "dtype: object\n"
     ]
    }
   ],
   "source": [
    "print(rating.head())\n",
    "print(rating.dtypes)\n",
    "print(movie.head())\n",
    "print(movie.dtypes)"
   ]
  },
  {
   "cell_type": "markdown",
   "metadata": {},
   "source": [
    "###### Convert attributes to right data types"
   ]
  },
  {
   "cell_type": "code",
   "execution_count": 5,
   "metadata": {},
   "outputs": [],
   "source": [
    "rating = rating.merge(movie, on='movieId', how = 'inner')"
   ]
  },
  {
   "cell_type": "code",
   "execution_count": 6,
   "metadata": {},
   "outputs": [
    {
     "data": {
      "text/html": [
       "<div>\n",
       "<style scoped>\n",
       "    .dataframe tbody tr th:only-of-type {\n",
       "        vertical-align: middle;\n",
       "    }\n",
       "\n",
       "    .dataframe tbody tr th {\n",
       "        vertical-align: top;\n",
       "    }\n",
       "\n",
       "    .dataframe thead th {\n",
       "        text-align: right;\n",
       "    }\n",
       "</style>\n",
       "<table border=\"1\" class=\"dataframe\">\n",
       "  <thead>\n",
       "    <tr style=\"text-align: right;\">\n",
       "      <th></th>\n",
       "      <th>userId</th>\n",
       "      <th>movieId</th>\n",
       "      <th>rating</th>\n",
       "      <th>timestamp</th>\n",
       "      <th>title</th>\n",
       "      <th>genres</th>\n",
       "    </tr>\n",
       "  </thead>\n",
       "  <tbody>\n",
       "    <tr>\n",
       "      <th>0</th>\n",
       "      <td>1</td>\n",
       "      <td>31</td>\n",
       "      <td>2.5</td>\n",
       "      <td>1260759144</td>\n",
       "      <td>Dangerous Minds (1995)</td>\n",
       "      <td>Drama</td>\n",
       "    </tr>\n",
       "    <tr>\n",
       "      <th>1</th>\n",
       "      <td>7</td>\n",
       "      <td>31</td>\n",
       "      <td>3.0</td>\n",
       "      <td>851868750</td>\n",
       "      <td>Dangerous Minds (1995)</td>\n",
       "      <td>Drama</td>\n",
       "    </tr>\n",
       "    <tr>\n",
       "      <th>2</th>\n",
       "      <td>31</td>\n",
       "      <td>31</td>\n",
       "      <td>4.0</td>\n",
       "      <td>1273541953</td>\n",
       "      <td>Dangerous Minds (1995)</td>\n",
       "      <td>Drama</td>\n",
       "    </tr>\n",
       "    <tr>\n",
       "      <th>3</th>\n",
       "      <td>32</td>\n",
       "      <td>31</td>\n",
       "      <td>4.0</td>\n",
       "      <td>834828440</td>\n",
       "      <td>Dangerous Minds (1995)</td>\n",
       "      <td>Drama</td>\n",
       "    </tr>\n",
       "    <tr>\n",
       "      <th>4</th>\n",
       "      <td>36</td>\n",
       "      <td>31</td>\n",
       "      <td>3.0</td>\n",
       "      <td>847057202</td>\n",
       "      <td>Dangerous Minds (1995)</td>\n",
       "      <td>Drama</td>\n",
       "    </tr>\n",
       "  </tbody>\n",
       "</table>\n",
       "</div>"
      ],
      "text/plain": [
       "   userId  movieId  rating   timestamp                   title genres\n",
       "0       1       31     2.5  1260759144  Dangerous Minds (1995)  Drama\n",
       "1       7       31     3.0   851868750  Dangerous Minds (1995)  Drama\n",
       "2      31       31     4.0  1273541953  Dangerous Minds (1995)  Drama\n",
       "3      32       31     4.0   834828440  Dangerous Minds (1995)  Drama\n",
       "4      36       31     3.0   847057202  Dangerous Minds (1995)  Drama"
      ]
     },
     "execution_count": 6,
     "metadata": {},
     "output_type": "execute_result"
    }
   ],
   "source": [
    "rating.head()"
   ]
  },
  {
   "cell_type": "code",
   "execution_count": 7,
   "metadata": {},
   "outputs": [],
   "source": [
    "rating.userId = rating.userId.astype(\"category\")\n",
    "\n",
    "rating.movieId = rating.movieId.astype(\"category\")\n",
    "\n",
    "rating.genres = rating.genres.astype(\"category\")"
   ]
  },
  {
   "cell_type": "code",
   "execution_count": 8,
   "metadata": {},
   "outputs": [
    {
     "data": {
      "text/plain": [
       "userId       category\n",
       "movieId      category\n",
       "rating        float64\n",
       "timestamp       int64\n",
       "title          object\n",
       "genres       category\n",
       "dtype: object"
      ]
     },
     "execution_count": 8,
     "metadata": {},
     "output_type": "execute_result"
    }
   ],
   "source": [
    "rating.dtypes"
   ]
  },
  {
   "cell_type": "markdown",
   "metadata": {},
   "source": [
    "###### Check for Missing Values"
   ]
  },
  {
   "cell_type": "code",
   "execution_count": 9,
   "metadata": {},
   "outputs": [
    {
     "data": {
      "text/plain": [
       "userId       0\n",
       "movieId      0\n",
       "rating       0\n",
       "timestamp    0\n",
       "title        0\n",
       "genres       0\n",
       "dtype: int64"
      ]
     },
     "execution_count": 9,
     "metadata": {},
     "output_type": "execute_result"
    }
   ],
   "source": [
    "rating.isnull().sum()"
   ]
  },
  {
   "cell_type": "code",
   "execution_count": 10,
   "metadata": {},
   "outputs": [
    {
     "data": {
      "text/plain": [
       "array([  1,   2,   3,   4,   5,   6,   7,   8,   9,  10,  11,  12,  13,\n",
       "        14,  15,  16,  17,  18,  19,  20,  21,  22,  23,  24,  25,  26,\n",
       "        27,  28,  29,  30,  31,  32,  34,  35,  36,  37,  38,  39,  40,\n",
       "        41,  42,  43,  44,  45,  46,  47,  48,  49,  50,  52,  53,  54,\n",
       "        55,  57,  58,  59,  60,  61,  62,  63,  64,  65,  66,  68,  69,\n",
       "        70,  71,  72,  73,  74,  76,  77,  78,  79,  80,  81,  82,  83,\n",
       "        84,  85,  86,  87,  88,  89,  92,  93,  94,  95,  96,  97,  98,\n",
       "        99, 100, 101, 102, 103, 104, 105, 107, 108])"
      ]
     },
     "execution_count": 10,
     "metadata": {},
     "output_type": "execute_result"
    }
   ],
   "source": [
    "np.unique(rating.movieId.values)[0:100]"
   ]
  },
  {
   "cell_type": "code",
   "execution_count": 11,
   "metadata": {},
   "outputs": [
    {
     "data": {
      "text/plain": [
       "array(['(no genres listed)', 'Action', 'Action|Adventure',\n",
       "       'Action|Adventure|Animation',\n",
       "       'Action|Adventure|Animation|Children',\n",
       "       'Action|Adventure|Animation|Children|Comedy',\n",
       "       'Action|Adventure|Animation|Children|Comedy|Fantasy',\n",
       "       'Action|Adventure|Animation|Children|Comedy|IMAX',\n",
       "       'Action|Adventure|Animation|Children|Comedy|Romance',\n",
       "       'Action|Adventure|Animation|Children|Comedy|Sci-Fi'], dtype=object)"
      ]
     },
     "execution_count": 11,
     "metadata": {},
     "output_type": "execute_result"
    }
   ],
   "source": [
    "np.unique(rating.genres.values)[0:10]"
   ]
  },
  {
   "cell_type": "code",
   "execution_count": 12,
   "metadata": {},
   "outputs": [],
   "source": [
    "userid = rating.userId.cat.codes.values\n",
    "\n",
    "movieid = rating.movieId.cat.codes.values\n",
    "\n",
    "genreid = rating.genres.cat.codes.values"
   ]
  },
  {
   "cell_type": "code",
   "execution_count": 13,
   "metadata": {},
   "outputs": [
    {
     "data": {
      "text/plain": [
       "array([ 0,  1,  2,  3,  4,  5,  6,  7,  8,  9, 10, 11, 12, 13, 14, 15, 16,\n",
       "       17, 18, 19, 20, 21, 22, 23, 24, 25, 26, 27, 28, 29, 30, 31, 32, 33,\n",
       "       34, 35, 36, 37, 38, 39, 40, 41, 42, 43, 44, 45, 46, 47, 48, 49, 50,\n",
       "       51, 52, 53, 54, 55, 56, 57, 58, 59, 60, 61, 62, 63, 64, 65, 66, 67,\n",
       "       68, 69, 70, 71, 72, 73, 74, 75, 76, 77, 78, 79, 80, 81, 82, 83, 84,\n",
       "       85, 86, 87, 88, 89, 90, 91, 92, 93, 94, 95, 96, 97, 98, 99],\n",
       "      dtype=int16)"
      ]
     },
     "execution_count": 13,
     "metadata": {},
     "output_type": "execute_result"
    }
   ],
   "source": [
    "np.unique(genreid)[0:100]"
   ]
  },
  {
   "cell_type": "code",
   "execution_count": 56,
   "metadata": {},
   "outputs": [],
   "source": [
    "n_users = len(rating.userId.unique())\n",
    "\n",
    "n_movies = len(rating.movieId.unique())\n",
    "\n",
    "n_genres = len(rating.genres.unique())"
   ]
  },
  {
   "cell_type": "markdown",
   "metadata": {},
   "source": [
    "###### Adding Cat Code Values to original dataframe"
   ]
  },
  {
   "cell_type": "code",
   "execution_count": 15,
   "metadata": {},
   "outputs": [],
   "source": [
    "rating[\"userid_catcode\"] = userid\n",
    "\n",
    "rating[\"movieid_catcode\"] = movieid\n",
    "\n",
    "rating[\"genreid_catcode\"] = genreid"
   ]
  },
  {
   "cell_type": "code",
   "execution_count": 16,
   "metadata": {},
   "outputs": [],
   "source": [
    "embedding_dim = 50"
   ]
  },
  {
   "cell_type": "markdown",
   "metadata": {},
   "source": [
    "#### Defining Custome Keras Metrics"
   ]
  },
  {
   "cell_type": "code",
   "execution_count": 17,
   "metadata": {},
   "outputs": [],
   "source": [
    "from keras import backend as K\n",
    "\n",
    "def mape_error(y_true, y_pred): \n",
    "    return K.mean((K.abs(y_pred - y_true)/y_true), axis=0) * 100"
   ]
  },
  {
   "cell_type": "code",
   "execution_count": 18,
   "metadata": {},
   "outputs": [],
   "source": [
    "def rmse_error(y_true, y_pred):\n",
    "        return K.sqrt(K.mean(K.square(y_pred - y_true), axis=0)) "
   ]
  },
  {
   "cell_type": "code",
   "execution_count": 19,
   "metadata": {},
   "outputs": [],
   "source": [
    "def mse_error(y_true, y_pred):\n",
    "        return K.mean(K.square(y_pred - y_true), axis=0) "
   ]
  },
  {
   "cell_type": "markdown",
   "metadata": {},
   "source": [
    "###### Split the data to Train and Test datasets"
   ]
  },
  {
   "cell_type": "code",
   "execution_count": 20,
   "metadata": {},
   "outputs": [],
   "source": [
    "train_userid, test_userid, \\\n",
    "train_movieid, test_movieid, \\\n",
    "train_genreid, test_genreid, \\\n",
    "train_y, test_y = train_test_split(userid,\n",
    "                                   movieid, \n",
    "                                   genreid,\n",
    "                                   rating.rating, \n",
    "                                   test_size=0.3, random_state=2)"
   ]
  },
  {
   "cell_type": "code",
   "execution_count": 21,
   "metadata": {},
   "outputs": [
    {
     "data": {
      "text/plain": [
       "(70002,)"
      ]
     },
     "execution_count": 21,
     "metadata": {},
     "output_type": "execute_result"
    }
   ],
   "source": [
    "train_y.shape"
   ]
  },
  {
   "cell_type": "code",
   "execution_count": 23,
   "metadata": {
    "scrolled": true
   },
   "outputs": [],
   "source": [
    "train_y = train_y.values.reshape((-1,1))\n",
    "test_y = test_y.values.reshape((-1,1))"
   ]
  },
  {
   "cell_type": "code",
   "execution_count": 24,
   "metadata": {},
   "outputs": [
    {
     "data": {
      "text/plain": [
       "array([[4.5],\n",
       "       [3. ],\n",
       "       [1. ],\n",
       "       [5. ],\n",
       "       [4. ],\n",
       "       [2.5],\n",
       "       [2. ],\n",
       "       [2. ],\n",
       "       [2. ],\n",
       "       [5. ]])"
      ]
     },
     "execution_count": 24,
     "metadata": {},
     "output_type": "execute_result"
    }
   ],
   "source": [
    "train_y.shape\n",
    "train_y[0:10]"
   ]
  },
  {
   "cell_type": "markdown",
   "metadata": {},
   "source": [
    "###### Embedding UserIds"
   ]
  },
  {
   "cell_type": "code",
   "execution_count": 25,
   "metadata": {},
   "outputs": [
    {
     "name": "stdout",
     "output_type": "stream",
     "text": [
      "WARNING:tensorflow:From /home/yogeshk/anaconda3/lib/python3.7/site-packages/tensorflow/python/ops/resource_variable_ops.py:435: colocate_with (from tensorflow.python.framework.ops) is deprecated and will be removed in a future version.\n",
      "Instructions for updating:\n",
      "Colocations handled automatically by placer.\n"
     ]
    }
   ],
   "source": [
    "encoder_UserID = Sequential()\n",
    "encoder_UserID.add(Embedding(n_users, embedding_dim, input_length=1,embeddings_regularizer=regularizers.l2(0.00001)))"
   ]
  },
  {
   "cell_type": "markdown",
   "metadata": {},
   "source": [
    "###### Embedding MovieIds"
   ]
  },
  {
   "cell_type": "code",
   "execution_count": 26,
   "metadata": {},
   "outputs": [],
   "source": [
    "encoder_MovieID = Sequential()\n",
    "encoder_MovieID.add(Embedding(n_movies, embedding_dim, input_length=1,embeddings_regularizer=regularizers.l2(0.00001)))"
   ]
  },
  {
   "cell_type": "markdown",
   "metadata": {},
   "source": [
    "###### Embedding Genreids"
   ]
  },
  {
   "cell_type": "code",
   "execution_count": 27,
   "metadata": {},
   "outputs": [],
   "source": [
    "encoder_genreID = Sequential()\n",
    "encoder_genreID.add(Embedding(n_genres, embedding_dim, input_length=1,embeddings_regularizer=regularizers.l2(0.00001)))\n"
   ]
  },
  {
   "cell_type": "markdown",
   "metadata": {},
   "source": [
    "##### Define MLP "
   ]
  },
  {
   "cell_type": "code",
   "execution_count": 28,
   "metadata": {},
   "outputs": [],
   "source": [
    "user_inp = Input(shape=(1, ))\n",
    "user_mbd = Embedding(n_users, embedding_dim)(user_inp)\n",
    "\n",
    "movie_inp = Input(shape=(1, ))\n",
    "movie_mbd = Embedding(n_movies, embedding_dim)(movie_inp)\n",
    "\n",
    "genre_inp = Input(shape=(1, ))\n",
    "genre_mbd = Embedding(n_genres, embedding_dim)(genre_inp)\n",
    "\n",
    "merged = concatenate([user_mbd, movie_mbd, genre_mbd])\n",
    "fc1 = Dense(100,activation='relu')(merged)\n",
    "fc2 = Dense(1)(fc1)\n",
    "\n",
    "model = Model(inputs=[user_inp, movie_inp, genre_inp], outputs=fc2)\n",
    "model.compile(optimizer='adam', loss='mse', metrics=[mse_error,rmse_error])"
   ]
  },
  {
   "cell_type": "markdown",
   "metadata": {},
   "source": [
    "###### Train and fit the model"
   ]
  },
  {
   "cell_type": "code",
   "execution_count": 29,
   "metadata": {},
   "outputs": [
    {
     "name": "stdout",
     "output_type": "stream",
     "text": [
      "Model: \"model_1\"\n",
      "__________________________________________________________________________________________________\n",
      "Layer (type)                    Output Shape         Param #     Connected to                     \n",
      "==================================================================================================\n",
      "input_1 (InputLayer)            (None, 1)            0                                            \n",
      "__________________________________________________________________________________________________\n",
      "input_2 (InputLayer)            (None, 1)            0                                            \n",
      "__________________________________________________________________________________________________\n",
      "input_3 (InputLayer)            (None, 1)            0                                            \n",
      "__________________________________________________________________________________________________\n",
      "embedding_4 (Embedding)         (None, 1, 50)        33550       input_1[0][0]                    \n",
      "__________________________________________________________________________________________________\n",
      "embedding_5 (Embedding)         (None, 1, 50)        453300      input_2[0][0]                    \n",
      "__________________________________________________________________________________________________\n",
      "embedding_6 (Embedding)         (None, 1, 50)        45050       input_3[0][0]                    \n",
      "__________________________________________________________________________________________________\n",
      "concatenate_1 (Concatenate)     (None, 1, 150)       0           embedding_4[0][0]                \n",
      "                                                                 embedding_5[0][0]                \n",
      "                                                                 embedding_6[0][0]                \n",
      "__________________________________________________________________________________________________\n",
      "dense_1 (Dense)                 (None, 1, 100)       15100       concatenate_1[0][0]              \n",
      "__________________________________________________________________________________________________\n",
      "dense_2 (Dense)                 (None, 1, 1)         101         dense_1[0][0]                    \n",
      "==================================================================================================\n",
      "Total params: 547,101\n",
      "Trainable params: 547,101\n",
      "Non-trainable params: 0\n",
      "__________________________________________________________________________________________________\n"
     ]
    }
   ],
   "source": [
    "model.summary()"
   ]
  },
  {
   "cell_type": "code",
   "execution_count": 30,
   "metadata": {},
   "outputs": [
    {
     "name": "stdout",
     "output_type": "stream",
     "text": [
      "WARNING:tensorflow:From /home/yogeshk/anaconda3/lib/python3.7/site-packages/tensorflow/python/ops/math_ops.py:3066: to_int32 (from tensorflow.python.ops.math_ops) is deprecated and will be removed in a future version.\n",
      "Instructions for updating:\n",
      "Use tf.cast instead.\n",
      "Train on 70002 samples, validate on 30002 samples\n",
      "Epoch 1/100\n",
      "70002/70002 [==============================] - 2s 35us/step - loss: 3.9240 - mse_error: 3.8986 - rmse_error: 1.6974 - val_loss: 0.8409 - val_mse_error: 0.8453 - val_rmse_error: 0.9186\n",
      "Epoch 2/100\n",
      "70002/70002 [==============================] - 2s 32us/step - loss: 0.7820 - mse_error: 0.7813 - rmse_error: 0.8832 - val_loss: 0.8052 - val_mse_error: 0.8140 - val_rmse_error: 0.9009\n",
      "Epoch 3/100\n",
      "70002/70002 [==============================] - 2s 33us/step - loss: 0.7339 - mse_error: 0.7331 - rmse_error: 0.8557 - val_loss: 0.8113 - val_mse_error: 0.8165 - val_rmse_error: 0.9027\n",
      "Epoch 4/100\n",
      "70002/70002 [==============================] - 2s 31us/step - loss: 0.7207 - mse_error: 0.7197 - rmse_error: 0.8474 - val_loss: 0.8105 - val_mse_error: 0.8185 - val_rmse_error: 0.9035\n",
      "Epoch 5/100\n",
      "70002/70002 [==============================] - 2s 30us/step - loss: 0.7105 - mse_error: 0.7217 - rmse_error: 0.8468 - val_loss: 0.8120 - val_mse_error: 0.8161 - val_rmse_error: 0.9025\n",
      "Epoch 6/100\n",
      "70002/70002 [==============================] - 2s 31us/step - loss: 0.7038 - mse_error: 0.7007 - rmse_error: 0.8360 - val_loss: 0.8147 - val_mse_error: 0.8205 - val_rmse_error: 0.9048\n",
      "Epoch 7/100\n",
      "70002/70002 [==============================] - 2s 33us/step - loss: 0.6990 - mse_error: 0.7021 - rmse_error: 0.8370 - val_loss: 0.8133 - val_mse_error: 0.8230 - val_rmse_error: 0.9058\n",
      "Epoch 8/100\n",
      "70002/70002 [==============================] - 2s 30us/step - loss: 0.6985 - mse_error: 0.6948 - rmse_error: 0.8322 - val_loss: 0.8114 - val_mse_error: 0.8190 - val_rmse_error: 0.9038\n",
      "Epoch 9/100\n",
      "70002/70002 [==============================] - 2s 30us/step - loss: 0.6918 - mse_error: 0.6884 - rmse_error: 0.8286 - val_loss: 0.8143 - val_mse_error: 0.8209 - val_rmse_error: 0.9050\n",
      "Epoch 10/100\n",
      "70002/70002 [==============================] - 2s 32us/step - loss: 0.6861 - mse_error: 0.6888 - rmse_error: 0.8290 - val_loss: 0.8106 - val_mse_error: 0.8154 - val_rmse_error: 0.9021\n",
      "Epoch 11/100\n",
      "70002/70002 [==============================] - 2s 33us/step - loss: 0.6862 - mse_error: 0.6823 - rmse_error: 0.8245 - val_loss: 0.8073 - val_mse_error: 0.8218 - val_rmse_error: 0.9043\n",
      "Epoch 12/100\n",
      "70002/70002 [==============================] - 2s 34us/step - loss: 0.6749 - mse_error: 0.6784 - rmse_error: 0.8228 - val_loss: 0.8071 - val_mse_error: 0.8189 - val_rmse_error: 0.9032\n",
      "Epoch 13/100\n",
      "70002/70002 [==============================] - 2s 28us/step - loss: 0.6714 - mse_error: 0.6806 - rmse_error: 0.8229 - val_loss: 0.7969 - val_mse_error: 0.8035 - val_rmse_error: 0.8953\n",
      "Epoch 14/100\n",
      "70002/70002 [==============================] - 2s 28us/step - loss: 0.6662 - mse_error: 0.6615 - rmse_error: 0.8103 - val_loss: 0.7991 - val_mse_error: 0.8044 - val_rmse_error: 0.8959\n",
      "Epoch 15/100\n",
      "70002/70002 [==============================] - 2s 28us/step - loss: 0.6493 - mse_error: 0.6450 - rmse_error: 0.8008 - val_loss: 0.8007 - val_mse_error: 0.8069 - val_rmse_error: 0.8972\n",
      "Epoch 16/100\n",
      "70002/70002 [==============================] - 2s 28us/step - loss: 0.6413 - mse_error: 0.6381 - rmse_error: 0.7975 - val_loss: 0.8041 - val_mse_error: 0.8139 - val_rmse_error: 0.9006\n",
      "Epoch 17/100\n",
      "70002/70002 [==============================] - 2s 31us/step - loss: 0.6337 - mse_error: 0.6307 - rmse_error: 0.7930 - val_loss: 0.8013 - val_mse_error: 0.8132 - val_rmse_error: 0.8999\n",
      "Epoch 18/100\n",
      "70002/70002 [==============================] - 2s 28us/step - loss: 0.6271 - mse_error: 0.6290 - rmse_error: 0.7922 - val_loss: 0.8082 - val_mse_error: 0.8176 - val_rmse_error: 0.9027\n",
      "Epoch 19/100\n",
      "70002/70002 [==============================] - 2s 28us/step - loss: 0.6208 - mse_error: 0.6166 - rmse_error: 0.7826 - val_loss: 0.8182 - val_mse_error: 0.8321 - val_rmse_error: 0.9101\n",
      "Epoch 20/100\n",
      "70002/70002 [==============================] - 2s 27us/step - loss: 0.6132 - mse_error: 0.6100 - rmse_error: 0.7796 - val_loss: 0.8127 - val_mse_error: 0.8218 - val_rmse_error: 0.9052\n",
      "Epoch 21/100\n",
      "70002/70002 [==============================] - 2s 27us/step - loss: 0.6083 - mse_error: 0.6113 - rmse_error: 0.7810 - val_loss: 0.8124 - val_mse_error: 0.8234 - val_rmse_error: 0.9058\n",
      "Epoch 22/100\n",
      "70002/70002 [==============================] - 2s 28us/step - loss: 0.6059 - mse_error: 0.6048 - rmse_error: 0.7771 - val_loss: 0.8280 - val_mse_error: 0.8384 - val_rmse_error: 0.9140\n",
      "Epoch 23/100\n",
      "70002/70002 [==============================] - 2s 27us/step - loss: 0.5980 - mse_error: 0.5957 - rmse_error: 0.7710 - val_loss: 0.8310 - val_mse_error: 0.8405 - val_rmse_error: 0.9153\n",
      "Epoch 24/100\n",
      "70002/70002 [==============================] - 2s 32us/step - loss: 0.5918 - mse_error: 0.5952 - rmse_error: 0.7704 - val_loss: 0.8314 - val_mse_error: 0.8446 - val_rmse_error: 0.9170\n",
      "Epoch 25/100\n",
      "70002/70002 [==============================] - 2s 29us/step - loss: 0.5879 - mse_error: 0.5912 - rmse_error: 0.7680 - val_loss: 0.8425 - val_mse_error: 0.8494 - val_rmse_error: 0.9206\n",
      "Epoch 26/100\n",
      "70002/70002 [==============================] - 3s 38us/step - loss: 0.5828 - mse_error: 0.5796 - rmse_error: 0.7600 - val_loss: 0.8276 - val_mse_error: 0.8372 - val_rmse_error: 0.9135\n",
      "Epoch 27/100\n",
      "70002/70002 [==============================] - 2s 34us/step - loss: 0.5706 - mse_error: 0.5691 - rmse_error: 0.7536 - val_loss: 0.8362 - val_mse_error: 0.8502 - val_rmse_error: 0.9201\n",
      "Epoch 28/100\n",
      "70002/70002 [==============================] - 2s 35us/step - loss: 0.5611 - mse_error: 0.5621 - rmse_error: 0.7490 - val_loss: 0.8542 - val_mse_error: 0.8656 - val_rmse_error: 0.9288\n",
      "Epoch 29/100\n",
      "70002/70002 [==============================] - 2s 34us/step - loss: 0.5554 - mse_error: 0.5561 - rmse_error: 0.7450 - val_loss: 0.8497 - val_mse_error: 0.8605 - val_rmse_error: 0.9261\n",
      "Epoch 30/100\n",
      "70002/70002 [==============================] - 2s 33us/step - loss: 0.5440 - mse_error: 0.5429 - rmse_error: 0.7361 - val_loss: 0.8511 - val_mse_error: 0.8643 - val_rmse_error: 0.9279\n",
      "Epoch 31/100\n",
      "70002/70002 [==============================] - 2s 31us/step - loss: 0.5353 - mse_error: 0.5356 - rmse_error: 0.7311 - val_loss: 0.8676 - val_mse_error: 0.8813 - val_rmse_error: 0.9369\n",
      "Epoch 32/100\n",
      "70002/70002 [==============================] - 2s 29us/step - loss: 0.5291 - mse_error: 0.5344 - rmse_error: 0.7295 - val_loss: 0.8617 - val_mse_error: 0.8709 - val_rmse_error: 0.9319\n",
      "Epoch 33/100\n",
      "70002/70002 [==============================] - 2s 29us/step - loss: 0.5210 - mse_error: 0.5190 - rmse_error: 0.7193 - val_loss: 0.8718 - val_mse_error: 0.8829 - val_rmse_error: 0.9381\n",
      "Epoch 34/100\n",
      "70002/70002 [==============================] - 2s 30us/step - loss: 0.5097 - mse_error: 0.5079 - rmse_error: 0.7118 - val_loss: 0.8707 - val_mse_error: 0.8865 - val_rmse_error: 0.9393\n",
      "Epoch 35/100\n",
      "70002/70002 [==============================] - 2s 29us/step - loss: 0.5029 - mse_error: 0.4996 - rmse_error: 0.7048 - val_loss: 0.8739 - val_mse_error: 0.8851 - val_rmse_error: 0.9393\n",
      "Epoch 36/100\n",
      "70002/70002 [==============================] - 2s 32us/step - loss: 0.4911 - mse_error: 0.4900 - rmse_error: 0.6991 - val_loss: 0.8691 - val_mse_error: 0.8800 - val_rmse_error: 0.9366\n",
      "Epoch 37/100\n",
      "70002/70002 [==============================] - 3s 36us/step - loss: 0.4837 - mse_error: 0.4810 - rmse_error: 0.6920 - val_loss: 0.8823 - val_mse_error: 0.8947 - val_rmse_error: 0.9442\n",
      "Epoch 38/100\n",
      "70002/70002 [==============================] - 2s 35us/step - loss: 0.4742 - mse_error: 0.4770 - rmse_error: 0.6897 - val_loss: 0.9569 - val_mse_error: 0.9740 - val_rmse_error: 0.9846\n",
      "Epoch 39/100\n",
      "70002/70002 [==============================] - 2s 32us/step - loss: 0.4749 - mse_error: 0.4746 - rmse_error: 0.6880 - val_loss: 0.9016 - val_mse_error: 0.9123 - val_rmse_error: 0.9536\n",
      "Epoch 40/100\n",
      "70002/70002 [==============================] - 2s 33us/step - loss: 0.4593 - mse_error: 0.4619 - rmse_error: 0.6786 - val_loss: 0.9227 - val_mse_error: 0.9290 - val_rmse_error: 0.9629\n",
      "Epoch 41/100\n"
     ]
    },
    {
     "name": "stdout",
     "output_type": "stream",
     "text": [
      "70002/70002 [==============================] - 2s 33us/step - loss: 0.4535 - mse_error: 0.4510 - rmse_error: 0.6701 - val_loss: 0.9152 - val_mse_error: 0.9248 - val_rmse_error: 0.9603\n",
      "Epoch 42/100\n",
      "70002/70002 [==============================] - 2s 32us/step - loss: 0.4382 - mse_error: 0.4363 - rmse_error: 0.6594 - val_loss: 0.9133 - val_mse_error: 0.9243 - val_rmse_error: 0.9599\n",
      "Epoch 43/100\n",
      "70002/70002 [==============================] - 2s 31us/step - loss: 0.4295 - mse_error: 0.4289 - rmse_error: 0.6541 - val_loss: 0.9266 - val_mse_error: 0.9369 - val_rmse_error: 0.9664\n",
      "Epoch 44/100\n",
      "70002/70002 [==============================] - 2s 34us/step - loss: 0.4215 - mse_error: 0.4196 - rmse_error: 0.6466 - val_loss: 0.9361 - val_mse_error: 0.9508 - val_rmse_error: 0.9731\n",
      "Epoch 45/100\n",
      "70002/70002 [==============================] - 2s 33us/step - loss: 0.4128 - mse_error: 0.4102 - rmse_error: 0.6388 - val_loss: 0.9293 - val_mse_error: 0.9371 - val_rmse_error: 0.9669\n",
      "Epoch 46/100\n",
      "70002/70002 [==============================] - 2s 31us/step - loss: 0.4019 - mse_error: 0.4031 - rmse_error: 0.6343 - val_loss: 0.9441 - val_mse_error: 0.9511 - val_rmse_error: 0.9741\n",
      "Epoch 47/100\n",
      "70002/70002 [==============================] - 2s 33us/step - loss: 0.3917 - mse_error: 0.3910 - rmse_error: 0.6245 - val_loss: 0.9583 - val_mse_error: 0.9722 - val_rmse_error: 0.9842\n",
      "Epoch 48/100\n",
      "70002/70002 [==============================] - 3s 37us/step - loss: 0.3827 - mse_error: 0.3866 - rmse_error: 0.6204 - val_loss: 0.9660 - val_mse_error: 0.9719 - val_rmse_error: 0.9849\n",
      "Epoch 49/100\n",
      "70002/70002 [==============================] - 2s 31us/step - loss: 0.3764 - mse_error: 0.3747 - rmse_error: 0.6111 - val_loss: 0.9681 - val_mse_error: 0.9801 - val_rmse_error: 0.9883\n",
      "Epoch 50/100\n",
      "70002/70002 [==============================] - 3s 37us/step - loss: 0.3631 - mse_error: 0.3652 - rmse_error: 0.6034 - val_loss: 0.9823 - val_mse_error: 0.9932 - val_rmse_error: 0.9951\n",
      "Epoch 51/100\n",
      "70002/70002 [==============================] - 2s 32us/step - loss: 0.3568 - mse_error: 0.3543 - rmse_error: 0.5927 - val_loss: 0.9858 - val_mse_error: 0.9983 - val_rmse_error: 0.9975\n",
      "Epoch 52/100\n",
      "70002/70002 [==============================] - 2s 33us/step - loss: 0.3413 - mse_error: 0.3413 - rmse_error: 0.5835 - val_loss: 0.9952 - val_mse_error: 1.0080 - val_rmse_error: 1.0023\n",
      "Epoch 53/100\n",
      "70002/70002 [==============================] - 2s 34us/step - loss: 0.3328 - mse_error: 0.3332 - rmse_error: 0.5766 - val_loss: 1.0162 - val_mse_error: 1.0309 - val_rmse_error: 1.0133\n",
      "Epoch 54/100\n",
      "70002/70002 [==============================] - 2s 31us/step - loss: 0.3302 - mse_error: 0.3333 - rmse_error: 0.5760 - val_loss: 1.0186 - val_mse_error: 1.0265 - val_rmse_error: 1.0119\n",
      "Epoch 55/100\n",
      "70002/70002 [==============================] - 2s 31us/step - loss: 0.3193 - mse_error: 0.3172 - rmse_error: 0.5615 - val_loss: 1.0166 - val_mse_error: 1.0302 - val_rmse_error: 1.0131\n",
      "Epoch 56/100\n",
      "70002/70002 [==============================] - 2s 35us/step - loss: 0.3043 - mse_error: 0.3024 - rmse_error: 0.5483 - val_loss: 1.0266 - val_mse_error: 1.0399 - val_rmse_error: 1.0179\n",
      "Epoch 57/100\n",
      "70002/70002 [==============================] - 2s 33us/step - loss: 0.2941 - mse_error: 0.2964 - rmse_error: 0.5433 - val_loss: 1.0363 - val_mse_error: 1.0517 - val_rmse_error: 1.0234\n",
      "Epoch 58/100\n",
      "70002/70002 [==============================] - 2s 32us/step - loss: 0.2907 - mse_error: 0.2896 - rmse_error: 0.5373 - val_loss: 1.0635 - val_mse_error: 1.0699 - val_rmse_error: 1.0333\n",
      "Epoch 59/100\n",
      "70002/70002 [==============================] - 2s 33us/step - loss: 0.2825 - mse_error: 0.2810 - rmse_error: 0.5291 - val_loss: 1.0626 - val_mse_error: 1.0733 - val_rmse_error: 1.0345\n",
      "Epoch 60/100\n",
      "70002/70002 [==============================] - 2s 32us/step - loss: 0.2729 - mse_error: 0.2723 - rmse_error: 0.5212 - val_loss: 1.0653 - val_mse_error: 1.0746 - val_rmse_error: 1.0353\n",
      "Epoch 61/100\n",
      "70002/70002 [==============================] - 2s 31us/step - loss: 0.2666 - mse_error: 0.2669 - rmse_error: 0.5160 - val_loss: 1.0793 - val_mse_error: 1.0843 - val_rmse_error: 1.0402\n",
      "Epoch 62/100\n",
      "70002/70002 [==============================] - 2s 30us/step - loss: 0.2587 - mse_error: 0.2579 - rmse_error: 0.5070 - val_loss: 1.0716 - val_mse_error: 1.0818 - val_rmse_error: 1.0387\n",
      "Epoch 63/100\n",
      "70002/70002 [==============================] - 2s 31us/step - loss: 0.2503 - mse_error: 0.2486 - rmse_error: 0.4967 - val_loss: 1.0820 - val_mse_error: 1.0873 - val_rmse_error: 1.0417\n",
      "Epoch 64/100\n",
      "70002/70002 [==============================] - 2s 31us/step - loss: 0.2416 - mse_error: 0.2444 - rmse_error: 0.4929 - val_loss: 1.1031 - val_mse_error: 1.1075 - val_rmse_error: 1.0513\n",
      "Epoch 65/100\n",
      "70002/70002 [==============================] - 2s 33us/step - loss: 0.2414 - mse_error: 0.2401 - rmse_error: 0.4889 - val_loss: 1.1064 - val_mse_error: 1.1119 - val_rmse_error: 1.0534\n",
      "Epoch 66/100\n",
      "70002/70002 [==============================] - 2s 32us/step - loss: 0.2314 - mse_error: 0.2298 - rmse_error: 0.4772 - val_loss: 1.1089 - val_mse_error: 1.1104 - val_rmse_error: 1.0528\n",
      "Epoch 67/100\n",
      "70002/70002 [==============================] - 2s 34us/step - loss: 0.2222 - mse_error: 0.2208 - rmse_error: 0.4684 - val_loss: 1.1226 - val_mse_error: 1.1260 - val_rmse_error: 1.0601\n",
      "Epoch 68/100\n",
      "70002/70002 [==============================] - 2s 34us/step - loss: 0.2171 - mse_error: 0.2162 - rmse_error: 0.4640 - val_loss: 1.1217 - val_mse_error: 1.1272 - val_rmse_error: 1.0606\n",
      "Epoch 69/100\n",
      "70002/70002 [==============================] - 2s 33us/step - loss: 0.2118 - mse_error: 0.2106 - rmse_error: 0.4578 - val_loss: 1.1356 - val_mse_error: 1.1411 - val_rmse_error: 1.0671\n",
      "Epoch 70/100\n",
      "70002/70002 [==============================] - 2s 34us/step - loss: 0.2065 - mse_error: 0.2062 - rmse_error: 0.4534 - val_loss: 1.1351 - val_mse_error: 1.1411 - val_rmse_error: 1.0670\n",
      "Epoch 71/100\n",
      "70002/70002 [==============================] - 3s 36us/step - loss: 0.2047 - mse_error: 0.2034 - rmse_error: 0.4497 - val_loss: 1.1439 - val_mse_error: 1.1516 - val_rmse_error: 1.0718\n",
      "Epoch 72/100\n",
      "70002/70002 [==============================] - 3s 36us/step - loss: 0.1949 - mse_error: 0.1940 - rmse_error: 0.4394 - val_loss: 1.1590 - val_mse_error: 1.1587 - val_rmse_error: 1.0754\n",
      "Epoch 73/100\n",
      "70002/70002 [==============================] - 2s 34us/step - loss: 0.1901 - mse_error: 0.1904 - rmse_error: 0.4356 - val_loss: 1.1725 - val_mse_error: 1.1692 - val_rmse_error: 1.0802\n",
      "Epoch 74/100\n",
      "70002/70002 [==============================] - 2s 32us/step - loss: 0.1872 - mse_error: 0.1859 - rmse_error: 0.4295 - val_loss: 1.1771 - val_mse_error: 1.1794 - val_rmse_error: 1.0850\n",
      "Epoch 75/100\n",
      "70002/70002 [==============================] - 2s 32us/step - loss: 0.1810 - mse_error: 0.1802 - rmse_error: 0.4236 - val_loss: 1.1721 - val_mse_error: 1.1796 - val_rmse_error: 1.0847\n",
      "Epoch 76/100\n",
      "70002/70002 [==============================] - 2s 35us/step - loss: 0.1758 - mse_error: 0.1748 - rmse_error: 0.4170 - val_loss: 1.1809 - val_mse_error: 1.1838 - val_rmse_error: 1.0869\n",
      "Epoch 77/100\n",
      "70002/70002 [==============================] - 2s 31us/step - loss: 0.1719 - mse_error: 0.1707 - rmse_error: 0.4112 - val_loss: 1.1855 - val_mse_error: 1.1854 - val_rmse_error: 1.0877\n",
      "Epoch 78/100\n",
      "70002/70002 [==============================] - 2s 30us/step - loss: 0.1655 - mse_error: 0.1648 - rmse_error: 0.4049 - val_loss: 1.2028 - val_mse_error: 1.2053 - val_rmse_error: 1.0968\n",
      "Epoch 79/100\n",
      "70002/70002 [==============================] - 2s 30us/step - loss: 0.1626 - mse_error: 0.1628 - rmse_error: 0.4027 - val_loss: 1.2062 - val_mse_error: 1.2056 - val_rmse_error: 1.0969\n",
      "Epoch 80/100\n",
      "70002/70002 [==============================] - 2s 30us/step - loss: 0.1607 - mse_error: 0.1601 - rmse_error: 0.3993 - val_loss: 1.2071 - val_mse_error: 1.2094 - val_rmse_error: 1.0987\n",
      "Epoch 81/100\n",
      "70002/70002 [==============================] - 2s 30us/step - loss: 0.1566 - mse_error: 0.1557 - rmse_error: 0.3935 - val_loss: 1.2303 - val_mse_error: 1.2349 - val_rmse_error: 1.1100\n",
      "Epoch 82/100\n",
      "70002/70002 [==============================] - 2s 30us/step - loss: 0.1533 - mse_error: 0.1531 - rmse_error: 0.3906 - val_loss: 1.2147 - val_mse_error: 1.2194 - val_rmse_error: 1.1031\n"
     ]
    },
    {
     "name": "stdout",
     "output_type": "stream",
     "text": [
      "Epoch 83/100\n",
      "70002/70002 [==============================] - 2s 30us/step - loss: 0.1503 - mse_error: 0.1506 - rmse_error: 0.3873 - val_loss: 1.2471 - val_mse_error: 1.2479 - val_rmse_error: 1.1160\n",
      "Epoch 84/100\n",
      "70002/70002 [==============================] - 2s 30us/step - loss: 0.1520 - mse_error: 0.1511 - rmse_error: 0.3873 - val_loss: 1.2348 - val_mse_error: 1.2397 - val_rmse_error: 1.1122\n",
      "Epoch 85/100\n",
      "70002/70002 [==============================] - 2s 29us/step - loss: 0.1407 - mse_error: 0.1399 - rmse_error: 0.3731 - val_loss: 1.2359 - val_mse_error: 1.2423 - val_rmse_error: 1.1133\n",
      "Epoch 86/100\n",
      "70002/70002 [==============================] - 2s 30us/step - loss: 0.1386 - mse_error: 0.1394 - rmse_error: 0.3726 - val_loss: 1.2746 - val_mse_error: 1.2711 - val_rmse_error: 1.1262\n",
      "Epoch 87/100\n",
      "70002/70002 [==============================] - 2s 32us/step - loss: 0.1421 - mse_error: 0.1415 - rmse_error: 0.3754 - val_loss: 1.2512 - val_mse_error: 1.2579 - val_rmse_error: 1.1203\n",
      "Epoch 88/100\n",
      "70002/70002 [==============================] - 2s 33us/step - loss: 0.1334 - mse_error: 0.1386 - rmse_error: 0.3687 - val_loss: 1.2784 - val_mse_error: 1.2789 - val_rmse_error: 1.1298\n",
      "Epoch 89/100\n",
      "70002/70002 [==============================] - 2s 32us/step - loss: 0.1411 - mse_error: 0.1410 - rmse_error: 0.3747 - val_loss: 1.2596 - val_mse_error: 1.2656 - val_rmse_error: 1.1237\n",
      "Epoch 90/100\n",
      "70002/70002 [==============================] - 3s 37us/step - loss: 0.1310 - mse_error: 0.1301 - rmse_error: 0.3591 - val_loss: 1.2644 - val_mse_error: 1.2701 - val_rmse_error: 1.1258\n",
      "Epoch 91/100\n",
      "70002/70002 [==============================] - 2s 35us/step - loss: 0.1220 - mse_error: 0.1216 - rmse_error: 0.3479 - val_loss: 1.2690 - val_mse_error: 1.2722 - val_rmse_error: 1.1267\n",
      "Epoch 92/100\n",
      "70002/70002 [==============================] - 3s 36us/step - loss: 0.1196 - mse_error: 0.1190 - rmse_error: 0.3441 - val_loss: 1.2777 - val_mse_error: 1.2829 - val_rmse_error: 1.1314\n",
      "Epoch 93/100\n",
      "70002/70002 [==============================] - 3s 36us/step - loss: 0.1168 - mse_error: 0.1162 - rmse_error: 0.3400 - val_loss: 1.2868 - val_mse_error: 1.2903 - val_rmse_error: 1.1348\n",
      "Epoch 94/100\n",
      "70002/70002 [==============================] - 2s 35us/step - loss: 0.1143 - mse_error: 0.1140 - rmse_error: 0.3368 - val_loss: 1.2869 - val_mse_error: 1.2901 - val_rmse_error: 1.1347\n",
      "Epoch 95/100\n",
      "70002/70002 [==============================] - 2s 34us/step - loss: 0.1141 - mse_error: 0.1140 - rmse_error: 0.3372 - val_loss: 1.3060 - val_mse_error: 1.3082 - val_rmse_error: 1.1426\n",
      "Epoch 96/100\n",
      "70002/70002 [==============================] - 2s 29us/step - loss: 0.1122 - mse_error: 0.1116 - rmse_error: 0.3330 - val_loss: 1.3071 - val_mse_error: 1.3146 - val_rmse_error: 1.1453\n",
      "Epoch 97/100\n",
      "70002/70002 [==============================] - 2s 29us/step - loss: 0.1086 - mse_error: 0.1079 - rmse_error: 0.3275 - val_loss: 1.2965 - val_mse_error: 1.3008 - val_rmse_error: 1.1394\n",
      "Epoch 98/100\n",
      "70002/70002 [==============================] - 2s 29us/step - loss: 0.1059 - mse_error: 0.1053 - rmse_error: 0.3233 - val_loss: 1.3083 - val_mse_error: 1.3131 - val_rmse_error: 1.1447\n",
      "Epoch 99/100\n",
      "70002/70002 [==============================] - 2s 29us/step - loss: 0.1032 - mse_error: 0.1028 - rmse_error: 0.3198 - val_loss: 1.3142 - val_mse_error: 1.3161 - val_rmse_error: 1.1461\n",
      "Epoch 100/100\n",
      "70002/70002 [==============================] - 2s 28us/step - loss: 0.1060 - mse_error: 0.1072 - rmse_error: 0.3265 - val_loss: 1.3159 - val_mse_error: 1.3201 - val_rmse_error: 1.1478\n"
     ]
    },
    {
     "data": {
      "text/plain": [
       "<keras.callbacks.callbacks.History at 0x7f66dbb9ecc0>"
      ]
     },
     "execution_count": 30,
     "metadata": {},
     "output_type": "execute_result"
    }
   ],
   "source": [
    "model.fit([train_userid,train_movieid,train_genreid], train_y.reshape(-1,1,1), epochs=100, verbose=1,batch_size=500,validation_data=([test_userid,test_movieid,test_genreid], test_y.reshape(-1,1,1)))"
   ]
  },
  {
   "cell_type": "markdown",
   "metadata": {},
   "source": [
    "###### Evaluating Scores Manually"
   ]
  },
  {
   "cell_type": "code",
   "execution_count": 32,
   "metadata": {},
   "outputs": [
    {
     "name": "stdout",
     "output_type": "stream",
     "text": [
      "30002/30002 [==============================] - 1s 25us/step\n",
      "[1.3159168274925037, 1.3158081769943237, 1.1330957412719727]\n"
     ]
    }
   ],
   "source": [
    "scores = model.evaluate([test_userid,test_movieid,test_genreid], test_y.reshape(-1,1,1))\n",
    "\n",
    "print(scores)"
   ]
  },
  {
   "cell_type": "code",
   "execution_count": 33,
   "metadata": {},
   "outputs": [],
   "source": [
    "test_pred = model.predict([test_userid,test_movieid,test_genreid])"
   ]
  },
  {
   "cell_type": "code",
   "execution_count": 34,
   "metadata": {},
   "outputs": [
    {
     "name": "stdout",
     "output_type": "stream",
     "text": [
      "mse_score: 1.3159168251902307\n"
     ]
    }
   ],
   "source": [
    "mse_score = np.mean(np.square(test_pred.reshape(-1,1) - test_y))\n",
    "\n",
    "print(\"mse_score:\",mse_score)"
   ]
  },
  {
   "cell_type": "markdown",
   "metadata": {},
   "source": [
    "###### Calculate MSE and RMSE Manually"
   ]
  },
  {
   "cell_type": "code",
   "execution_count": 35,
   "metadata": {},
   "outputs": [
    {
     "name": "stdout",
     "output_type": "stream",
     "text": [
      "rmse_score: 1.1471341792441854\n"
     ]
    }
   ],
   "source": [
    "rmse_score = np.sqrt(np.mean(np.square(test_pred.reshape(-1,1) - test_y)))\n",
    "\n",
    "print(\"rmse_score:\",rmse_score)"
   ]
  },
  {
   "cell_type": "markdown",
   "metadata": {},
   "source": [
    "## Developing Recommendations"
   ]
  },
  {
   "cell_type": "markdown",
   "metadata": {},
   "source": [
    "###### Extracting/Predicting user embeddings"
   ]
  },
  {
   "cell_type": "code",
   "execution_count": 36,
   "metadata": {},
   "outputs": [],
   "source": [
    "encoder_UserID = Model(user_inp, user_mbd)\n",
    "\n",
    "encoder_MovieID = Model(movie_inp, movie_mbd)"
   ]
  },
  {
   "cell_type": "code",
   "execution_count": 37,
   "metadata": {},
   "outputs": [],
   "source": [
    "users_unique = np.unique(userid)\n",
    "\n",
    "users_embeddings = encoder_UserID.predict(users_unique)"
   ]
  },
  {
   "cell_type": "code",
   "execution_count": 38,
   "metadata": {
    "scrolled": true
   },
   "outputs": [
    {
     "data": {
      "text/plain": [
       "array([[[ 0.00937831,  0.09306882,  0.02798257, -0.11451815,\n",
       "         -0.17154603,  0.10121604,  0.00219925, -0.09427488,\n",
       "          0.08729226, -0.01271356,  0.0480085 , -0.06021031,\n",
       "          0.0686344 ,  0.06600476, -0.04319668, -0.02193855,\n",
       "         -0.17557213, -0.04872634,  0.11772239, -0.02861193,\n",
       "         -0.08993847, -0.07496922,  0.04350245,  0.06192971,\n",
       "         -0.09684246,  0.0544726 , -0.06157613,  0.00843827,\n",
       "         -0.06087888,  0.28190553,  0.13663387,  0.07415251,\n",
       "         -0.07918856, -0.07101006,  0.09267204, -0.02502137,\n",
       "         -0.10163342, -0.08868191,  0.04871479,  0.18856154,\n",
       "         -0.24165097, -0.06425928,  0.17878199,  0.14739783,\n",
       "         -0.01084118,  0.04854346,  0.03096857,  0.01866068,\n",
       "          0.07438418, -0.22130443]],\n",
       "\n",
       "       [[-0.15971145,  0.06707465, -0.16358429, -0.05157582,\n",
       "         -0.20874792,  0.0806102 , -0.05452153,  0.05546542,\n",
       "          0.09328122,  0.14510234,  0.21460621, -0.01733369,\n",
       "         -0.1257984 , -0.1534178 , -0.2128454 , -0.13852327,\n",
       "          0.10862426,  0.0332145 , -0.16398557,  0.0015104 ,\n",
       "          0.02979263,  0.18709335, -0.22565056,  0.03017611,\n",
       "          0.04175472, -0.18476497, -0.01432449,  0.0594715 ,\n",
       "          0.13599661,  0.17889705, -0.07445572, -0.21228673,\n",
       "         -0.1450656 , -0.00117977, -0.16130234, -0.06110147,\n",
       "          0.21145865,  0.18972975, -0.0350672 , -0.0556598 ,\n",
       "         -0.23390178, -0.10894326,  0.06340997, -0.14540818,\n",
       "          0.06967158,  0.07860178, -0.19392072, -0.28470775,\n",
       "          0.30677375, -0.12445929]],\n",
       "\n",
       "       [[-0.15289026,  0.10451915,  0.00422539, -0.13720293,\n",
       "         -0.08601663,  0.04196175, -0.20089842,  0.23537824,\n",
       "         -0.21618314,  0.0232477 ,  0.07759613, -0.12439063,\n",
       "         -0.09665251,  0.01926181,  0.11571722, -0.05625727,\n",
       "          0.09842319, -0.1016909 ,  0.01621269, -0.2262645 ,\n",
       "          0.02157374,  0.10046735, -0.02525986, -0.03695311,\n",
       "          0.09911574, -0.00798906, -0.06013679, -0.0162653 ,\n",
       "          0.05445161, -0.06266269,  0.11296573, -0.03396047,\n",
       "          0.00478921, -0.24610312, -0.06111951, -0.14164184,\n",
       "          0.03421513,  0.13732122,  0.29425037, -0.04089639,\n",
       "          0.05841828, -0.25164935, -0.02131893, -0.00906361,\n",
       "         -0.07734498, -0.04008568, -0.04015622,  0.01822633,\n",
       "          0.08841895,  0.00175995]]], dtype=float32)"
      ]
     },
     "execution_count": 38,
     "metadata": {},
     "output_type": "execute_result"
    }
   ],
   "source": [
    "users_unique[0:3]\n",
    "\n",
    "users_embeddings[0:3]"
   ]
  },
  {
   "cell_type": "code",
   "execution_count": 39,
   "metadata": {},
   "outputs": [],
   "source": [
    "users_embeddings = pd.DataFrame(users_embeddings.reshape(-1,50))\n",
    "\n",
    "users_embeddings[\"userid_catcode\"] = users_unique"
   ]
  },
  {
   "cell_type": "code",
   "execution_count": 40,
   "metadata": {},
   "outputs": [
    {
     "data": {
      "text/html": [
       "<div>\n",
       "<style scoped>\n",
       "    .dataframe tbody tr th:only-of-type {\n",
       "        vertical-align: middle;\n",
       "    }\n",
       "\n",
       "    .dataframe tbody tr th {\n",
       "        vertical-align: top;\n",
       "    }\n",
       "\n",
       "    .dataframe thead th {\n",
       "        text-align: right;\n",
       "    }\n",
       "</style>\n",
       "<table border=\"1\" class=\"dataframe\">\n",
       "  <thead>\n",
       "    <tr style=\"text-align: right;\">\n",
       "      <th></th>\n",
       "      <th>0</th>\n",
       "      <th>1</th>\n",
       "      <th>2</th>\n",
       "      <th>3</th>\n",
       "      <th>4</th>\n",
       "      <th>5</th>\n",
       "      <th>6</th>\n",
       "      <th>7</th>\n",
       "      <th>8</th>\n",
       "      <th>9</th>\n",
       "      <th>...</th>\n",
       "      <th>41</th>\n",
       "      <th>42</th>\n",
       "      <th>43</th>\n",
       "      <th>44</th>\n",
       "      <th>45</th>\n",
       "      <th>46</th>\n",
       "      <th>47</th>\n",
       "      <th>48</th>\n",
       "      <th>49</th>\n",
       "      <th>userid_catcode</th>\n",
       "    </tr>\n",
       "  </thead>\n",
       "  <tbody>\n",
       "    <tr>\n",
       "      <th>0</th>\n",
       "      <td>0.009378</td>\n",
       "      <td>0.093069</td>\n",
       "      <td>0.027983</td>\n",
       "      <td>-0.114518</td>\n",
       "      <td>-0.171546</td>\n",
       "      <td>0.101216</td>\n",
       "      <td>0.002199</td>\n",
       "      <td>-0.094275</td>\n",
       "      <td>0.087292</td>\n",
       "      <td>-0.012714</td>\n",
       "      <td>...</td>\n",
       "      <td>-0.064259</td>\n",
       "      <td>0.178782</td>\n",
       "      <td>0.147398</td>\n",
       "      <td>-0.010841</td>\n",
       "      <td>0.048543</td>\n",
       "      <td>0.030969</td>\n",
       "      <td>0.018661</td>\n",
       "      <td>0.074384</td>\n",
       "      <td>-0.221304</td>\n",
       "      <td>0</td>\n",
       "    </tr>\n",
       "    <tr>\n",
       "      <th>1</th>\n",
       "      <td>-0.159711</td>\n",
       "      <td>0.067075</td>\n",
       "      <td>-0.163584</td>\n",
       "      <td>-0.051576</td>\n",
       "      <td>-0.208748</td>\n",
       "      <td>0.080610</td>\n",
       "      <td>-0.054522</td>\n",
       "      <td>0.055465</td>\n",
       "      <td>0.093281</td>\n",
       "      <td>0.145102</td>\n",
       "      <td>...</td>\n",
       "      <td>-0.108943</td>\n",
       "      <td>0.063410</td>\n",
       "      <td>-0.145408</td>\n",
       "      <td>0.069672</td>\n",
       "      <td>0.078602</td>\n",
       "      <td>-0.193921</td>\n",
       "      <td>-0.284708</td>\n",
       "      <td>0.306774</td>\n",
       "      <td>-0.124459</td>\n",
       "      <td>1</td>\n",
       "    </tr>\n",
       "    <tr>\n",
       "      <th>2</th>\n",
       "      <td>-0.152890</td>\n",
       "      <td>0.104519</td>\n",
       "      <td>0.004225</td>\n",
       "      <td>-0.137203</td>\n",
       "      <td>-0.086017</td>\n",
       "      <td>0.041962</td>\n",
       "      <td>-0.200898</td>\n",
       "      <td>0.235378</td>\n",
       "      <td>-0.216183</td>\n",
       "      <td>0.023248</td>\n",
       "      <td>...</td>\n",
       "      <td>-0.251649</td>\n",
       "      <td>-0.021319</td>\n",
       "      <td>-0.009064</td>\n",
       "      <td>-0.077345</td>\n",
       "      <td>-0.040086</td>\n",
       "      <td>-0.040156</td>\n",
       "      <td>0.018226</td>\n",
       "      <td>0.088419</td>\n",
       "      <td>0.001760</td>\n",
       "      <td>2</td>\n",
       "    </tr>\n",
       "  </tbody>\n",
       "</table>\n",
       "<p>3 rows × 51 columns</p>\n",
       "</div>"
      ],
      "text/plain": [
       "          0         1         2         3         4         5         6  \\\n",
       "0  0.009378  0.093069  0.027983 -0.114518 -0.171546  0.101216  0.002199   \n",
       "1 -0.159711  0.067075 -0.163584 -0.051576 -0.208748  0.080610 -0.054522   \n",
       "2 -0.152890  0.104519  0.004225 -0.137203 -0.086017  0.041962 -0.200898   \n",
       "\n",
       "          7         8         9  ...        41        42        43        44  \\\n",
       "0 -0.094275  0.087292 -0.012714  ... -0.064259  0.178782  0.147398 -0.010841   \n",
       "1  0.055465  0.093281  0.145102  ... -0.108943  0.063410 -0.145408  0.069672   \n",
       "2  0.235378 -0.216183  0.023248  ... -0.251649 -0.021319 -0.009064 -0.077345   \n",
       "\n",
       "         45        46        47        48        49  userid_catcode  \n",
       "0  0.048543  0.030969  0.018661  0.074384 -0.221304               0  \n",
       "1  0.078602 -0.193921 -0.284708  0.306774 -0.124459               1  \n",
       "2 -0.040086 -0.040156  0.018226  0.088419  0.001760               2  \n",
       "\n",
       "[3 rows x 51 columns]"
      ]
     },
     "execution_count": 40,
     "metadata": {},
     "output_type": "execute_result"
    }
   ],
   "source": [
    "users_embeddings[0:3]"
   ]
  },
  {
   "cell_type": "code",
   "execution_count": 41,
   "metadata": {},
   "outputs": [],
   "source": [
    "movies_unique = np.unique(movieid)\n",
    "\n",
    "movies_embeddings = encoder_MovieID.predict(movies_unique)"
   ]
  },
  {
   "cell_type": "code",
   "execution_count": 42,
   "metadata": {},
   "outputs": [],
   "source": [
    "movies_embeddings = pd.DataFrame(movies_embeddings.reshape(-1,50))\n",
    "\n",
    "movies_embeddings[\"movieid_catcode\"] = movies_unique"
   ]
  },
  {
   "cell_type": "markdown",
   "metadata": {},
   "source": [
    "##### Identify nearest neighbours for a movie based on k-Nearest Neighbours Algorithm"
   ]
  },
  {
   "cell_type": "code",
   "execution_count": 43,
   "metadata": {},
   "outputs": [],
   "source": [
    "from sklearn.neighbors import NearestNeighbors"
   ]
  },
  {
   "cell_type": "code",
   "execution_count": 44,
   "metadata": {},
   "outputs": [],
   "source": [
    "nbrs = NearestNeighbors(n_neighbors = 10, algorithm='auto').fit(movies_embeddings.drop([\"movieid_catcode\"],axis=1))\n",
    "\n",
    "movie_distances, movie_nbrs = nbrs.kneighbors(movies_embeddings.drop([\"movieid_catcode\"], axis=1))\n",
    "\n",
    "movie_nbrs = pd.DataFrame(movie_nbrs)\n",
    "\n",
    "movie_nbrs.columns = [\"movieid_catcode\",\"NN1\",\"NN2\",\"NN3\",\"NN4\",\"NN5\",\"NN6\",\"NN7\",\"NN8\",\"NN9\"]"
   ]
  },
  {
   "cell_type": "markdown",
   "metadata": {},
   "source": [
    "###### Define Recommender Function"
   ]
  },
  {
   "cell_type": "code",
   "execution_count": 45,
   "metadata": {},
   "outputs": [],
   "source": [
    "def recommender(rating,movie_nbrs,model,uid,n):\n",
    "    \n",
    "    # Mapping the userid to its Cat Code\n",
    "    uid_catcode=rating[rating.userId==uid][\"userid_catcode\"].unique()\n",
    "    \n",
    "    #Subsetting the records of the userid\n",
    "    movies=(rating[rating.userid_catcode==uid_catcode[0]])\n",
    "    \n",
    "    #Sorting the user movies based on given ratings\n",
    "    if len(movies)>=n :\n",
    "        movies=movies.sort_values(\"rating\",ascending=False)\n",
    "        movies=list((movies[0:n][\"movieid_catcode\"]))\n",
    "    else :\n",
    "        movies=list(movies[\"movieid_catcode\"])\n",
    "    \n",
    "   \n",
    "    Movie_nbrs=movie_nbrs[movie_nbrs.movieid_catcode.isin(movies)]\n",
    "    Movie_nbrs=Movie_nbrs.drop(\"movieid_catcode\",axis=1)\n",
    "    Movie_nbrs=pd.DataFrame(np.unique(Movie_nbrs.values.flatten()))\n",
    "    Movie_nbrs.columns=[\"movieid_catcode\"]\n",
    "    Movie_nbrs=Movie_nbrs[~(Movie_nbrs[\"movieid_catcode\"].isin(list(rating[rating.userid_catcode==uid_catcode[0]][\"movieid_catcode\"])))]\n",
    "    genre_nbrs=rating[rating.movieid_catcode.isin(Movie_nbrs.movieid_catcode)][\"genreid_catcode\"]\n",
    "    genre_nbrs.columns=[\"genre_id\"]\n",
    "    \n",
    "    \n",
    "    if len(Movie_nbrs)>0:\n",
    "        usid=np.repeat(uid_catcode[0], len(Movie_nbrs))\n",
    "        Movie_nbrs=Movie_nbrs.movieid_catcode.values\n",
    "        genre_nbrs = genre_nbrs.values\n",
    "        test_pred = model.predict([usid,Movie_nbrs,genre_nbrs]).reshape(-1)\n",
    "        \n",
    "        r_Df=pd.DataFrame({\"movieid_catcode\":Movie_nbrs})\n",
    "        r_Df[\"rating\"]=test_pred\n",
    "        \n",
    "        Movie_catcodes=rating[[\"movieId\",\"movieid_catcode\",\"title\"]]\n",
    "        Movie_catcodes=Movie_catcodes.drop_duplicates()\n",
    "        r_Df=pd.merge(r_Df,Movie_catcodes,how=\"left\",on=[\"movieid_catcode\"])\n",
    "        r_Df=r_Df.sort_values(\"rating\",ascending=False)\n",
    "        r_Df=r_Df.iloc[0:n]\n",
    "        r_Df[\"userId\"] = uid\n",
    "        return(r_Df)\n",
    "    else :\n",
    "        print(\"Try with another n value\")\n",
    "        r_Df=None\n",
    "        return(r_Df)"
   ]
  },
  {
   "cell_type": "markdown",
   "metadata": {},
   "source": [
    "###### Recommend movie for a user"
   ]
  },
  {
   "cell_type": "code",
   "execution_count": 46,
   "metadata": {},
   "outputs": [],
   "source": [
    "uid = 605\n",
    "\n",
    "n = 5\n",
    "\n",
    "model = model\n",
    "\n",
    "rec = recommender(rating, movie_nbrs, model, uid, n)"
   ]
  },
  {
   "cell_type": "code",
   "execution_count": 47,
   "metadata": {},
   "outputs": [
    {
     "data": {
      "text/html": [
       "<div>\n",
       "<style scoped>\n",
       "    .dataframe tbody tr th:only-of-type {\n",
       "        vertical-align: middle;\n",
       "    }\n",
       "\n",
       "    .dataframe tbody tr th {\n",
       "        vertical-align: top;\n",
       "    }\n",
       "\n",
       "    .dataframe thead th {\n",
       "        text-align: right;\n",
       "    }\n",
       "</style>\n",
       "<table border=\"1\" class=\"dataframe\">\n",
       "  <thead>\n",
       "    <tr style=\"text-align: right;\">\n",
       "      <th></th>\n",
       "      <th>movieid_catcode</th>\n",
       "      <th>rating</th>\n",
       "      <th>movieId</th>\n",
       "      <th>title</th>\n",
       "      <th>userId</th>\n",
       "    </tr>\n",
       "  </thead>\n",
       "  <tbody>\n",
       "    <tr>\n",
       "      <th>7</th>\n",
       "      <td>2427</td>\n",
       "      <td>5.049459</td>\n",
       "      <td>3021</td>\n",
       "      <td>Funhouse, The (1981)</td>\n",
       "      <td>605</td>\n",
       "    </tr>\n",
       "    <tr>\n",
       "      <th>23</th>\n",
       "      <td>4866</td>\n",
       "      <td>5.005537</td>\n",
       "      <td>6918</td>\n",
       "      <td>Unvanquished, The (Aparajito) (1957)</td>\n",
       "      <td>605</td>\n",
       "    </tr>\n",
       "    <tr>\n",
       "      <th>31</th>\n",
       "      <td>7032</td>\n",
       "      <td>4.925920</td>\n",
       "      <td>62376</td>\n",
       "      <td>City of Ember (2008)</td>\n",
       "      <td>605</td>\n",
       "    </tr>\n",
       "    <tr>\n",
       "      <th>41</th>\n",
       "      <td>8687</td>\n",
       "      <td>4.895577</td>\n",
       "      <td>116897</td>\n",
       "      <td>Wild Tales (2014)</td>\n",
       "      <td>605</td>\n",
       "    </tr>\n",
       "    <tr>\n",
       "      <th>36</th>\n",
       "      <td>8157</td>\n",
       "      <td>4.868207</td>\n",
       "      <td>97957</td>\n",
       "      <td>Excision (2012)</td>\n",
       "      <td>605</td>\n",
       "    </tr>\n",
       "  </tbody>\n",
       "</table>\n",
       "</div>"
      ],
      "text/plain": [
       "    movieid_catcode    rating movieId                                 title  \\\n",
       "7              2427  5.049459    3021                  Funhouse, The (1981)   \n",
       "23             4866  5.005537    6918  Unvanquished, The (Aparajito) (1957)   \n",
       "31             7032  4.925920   62376                  City of Ember (2008)   \n",
       "41             8687  4.895577  116897                     Wild Tales (2014)   \n",
       "36             8157  4.868207   97957                       Excision (2012)   \n",
       "\n",
       "    userId  \n",
       "7      605  \n",
       "23     605  \n",
       "31     605  \n",
       "41     605  \n",
       "36     605  "
      ]
     },
     "execution_count": 47,
     "metadata": {},
     "output_type": "execute_result"
    }
   ],
   "source": [
    "rec"
   ]
  }
 ],
 "metadata": {
  "kernelspec": {
   "display_name": "Python 3",
   "language": "python",
   "name": "python3"
  },
  "language_info": {
   "codemirror_mode": {
    "name": "ipython",
    "version": 3
   },
   "file_extension": ".py",
   "mimetype": "text/x-python",
   "name": "python",
   "nbconvert_exporter": "python",
   "pygments_lexer": "ipython3",
   "version": "3.7.3"
  }
 },
 "nbformat": 4,
 "nbformat_minor": 2
}
