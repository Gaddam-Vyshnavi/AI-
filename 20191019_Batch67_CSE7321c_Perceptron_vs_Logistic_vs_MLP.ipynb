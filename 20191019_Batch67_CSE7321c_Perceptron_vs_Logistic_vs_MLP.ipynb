{
 "cells": [
  {
   "cell_type": "code",
   "execution_count": 7,
   "metadata": {
    "collapsed": false
   },
   "outputs": [
    {
     "data": {
      "text/plain": [
       "'C:\\\\Users\\\\Classroom4\\\\Desktop\\\\20191019_Batch67_CSE7321c_ANN_Lab'"
      ]
     },
     "execution_count": 7,
     "metadata": {},
     "output_type": "execute_result"
    }
   ],
   "source": [
    "import os\n",
    "os.chdir(\"C:\\\\Users\\\\Classroom4\\\\Desktop\\\\20191019_Batch67_CSE7321c_ANN_Lab\")\n",
    "os.getcwd()"
   ]
  },
  {
   "cell_type": "code",
   "execution_count": 8,
   "metadata": {
    "collapsed": false
   },
   "outputs": [
    {
     "name": "stdout",
     "output_type": "stream",
     "text": [
      "(768, 9)\n"
     ]
    },
    {
     "data": {
      "text/html": [
       "<div>\n",
       "<style scoped>\n",
       "    .dataframe tbody tr th:only-of-type {\n",
       "        vertical-align: middle;\n",
       "    }\n",
       "\n",
       "    .dataframe tbody tr th {\n",
       "        vertical-align: top;\n",
       "    }\n",
       "\n",
       "    .dataframe thead th {\n",
       "        text-align: right;\n",
       "    }\n",
       "</style>\n",
       "<table border=\"1\" class=\"dataframe\">\n",
       "  <thead>\n",
       "    <tr style=\"text-align: right;\">\n",
       "      <th></th>\n",
       "      <th>PregnantFreq</th>\n",
       "      <th>PlasmaGlucose</th>\n",
       "      <th>DiastolicBP</th>\n",
       "      <th>TricepSkinThickness</th>\n",
       "      <th>SerumInsulin</th>\n",
       "      <th>BMI</th>\n",
       "      <th>DiabetesPedigree</th>\n",
       "      <th>Age</th>\n",
       "      <th>Target</th>\n",
       "    </tr>\n",
       "  </thead>\n",
       "  <tbody>\n",
       "    <tr>\n",
       "      <th>0</th>\n",
       "      <td>6.0</td>\n",
       "      <td>148.0</td>\n",
       "      <td>72.0</td>\n",
       "      <td>35.00000</td>\n",
       "      <td>155.548223</td>\n",
       "      <td>33.6</td>\n",
       "      <td>0.627</td>\n",
       "      <td>50</td>\n",
       "      <td>1</td>\n",
       "    </tr>\n",
       "    <tr>\n",
       "      <th>1</th>\n",
       "      <td>1.0</td>\n",
       "      <td>85.0</td>\n",
       "      <td>66.0</td>\n",
       "      <td>29.00000</td>\n",
       "      <td>155.548223</td>\n",
       "      <td>26.6</td>\n",
       "      <td>0.351</td>\n",
       "      <td>31</td>\n",
       "      <td>0</td>\n",
       "    </tr>\n",
       "    <tr>\n",
       "      <th>2</th>\n",
       "      <td>8.0</td>\n",
       "      <td>183.0</td>\n",
       "      <td>64.0</td>\n",
       "      <td>29.15342</td>\n",
       "      <td>155.548223</td>\n",
       "      <td>23.3</td>\n",
       "      <td>0.672</td>\n",
       "      <td>32</td>\n",
       "      <td>1</td>\n",
       "    </tr>\n",
       "    <tr>\n",
       "      <th>3</th>\n",
       "      <td>1.0</td>\n",
       "      <td>89.0</td>\n",
       "      <td>66.0</td>\n",
       "      <td>23.00000</td>\n",
       "      <td>94.000000</td>\n",
       "      <td>28.1</td>\n",
       "      <td>0.167</td>\n",
       "      <td>21</td>\n",
       "      <td>0</td>\n",
       "    </tr>\n",
       "    <tr>\n",
       "      <th>4</th>\n",
       "      <td>0.0</td>\n",
       "      <td>137.0</td>\n",
       "      <td>40.0</td>\n",
       "      <td>35.00000</td>\n",
       "      <td>168.000000</td>\n",
       "      <td>43.1</td>\n",
       "      <td>2.288</td>\n",
       "      <td>33</td>\n",
       "      <td>1</td>\n",
       "    </tr>\n",
       "  </tbody>\n",
       "</table>\n",
       "</div>"
      ],
      "text/plain": [
       "   PregnantFreq  PlasmaGlucose  DiastolicBP  TricepSkinThickness  \\\n",
       "0           6.0          148.0         72.0             35.00000   \n",
       "1           1.0           85.0         66.0             29.00000   \n",
       "2           8.0          183.0         64.0             29.15342   \n",
       "3           1.0           89.0         66.0             23.00000   \n",
       "4           0.0          137.0         40.0             35.00000   \n",
       "\n",
       "   SerumInsulin   BMI  DiabetesPedigree  Age  Target  \n",
       "0    155.548223  33.6             0.627   50       1  \n",
       "1    155.548223  26.6             0.351   31       0  \n",
       "2    155.548223  23.3             0.672   32       1  \n",
       "3     94.000000  28.1             0.167   21       0  \n",
       "4    168.000000  43.1             2.288   33       1  "
      ]
     },
     "execution_count": 8,
     "metadata": {},
     "output_type": "execute_result"
    }
   ],
   "source": [
    "## Reading the dataset\n",
    "import warnings\n",
    "warnings.filterwarnings('ignore')\n",
    "import pandas as pd\n",
    "diabetes = pd.read_csv(\"processed_diabetes.csv\")\n",
    "print(diabetes.shape)\n",
    "diabetes.head()"
   ]
  },
  {
   "cell_type": "code",
   "execution_count": 9,
   "metadata": {
    "collapsed": false
   },
   "outputs": [
    {
     "data": {
      "text/plain": [
       "(768, 9)"
      ]
     },
     "execution_count": 9,
     "metadata": {},
     "output_type": "execute_result"
    }
   ],
   "source": [
    "diabetes.shape"
   ]
  },
  {
   "cell_type": "markdown",
   "metadata": {},
   "source": [
    "### Decoupling \"Target\""
   ]
  },
  {
   "cell_type": "code",
   "execution_count": 10,
   "metadata": {
    "collapsed": true
   },
   "outputs": [],
   "source": [
    "X = diabetes.loc[:,diabetes.columns.difference(['Target'])]\n",
    "y = diabetes['Target']"
   ]
  },
  {
   "cell_type": "code",
   "execution_count": 11,
   "metadata": {
    "collapsed": false
   },
   "outputs": [
    {
     "data": {
      "text/plain": [
       "0    500\n",
       "1    268\n",
       "Name: Target, dtype: int64"
      ]
     },
     "execution_count": 11,
     "metadata": {},
     "output_type": "execute_result"
    }
   ],
   "source": [
    "y.value_counts()"
   ]
  },
  {
   "cell_type": "markdown",
   "metadata": {},
   "source": [
    "### Train-Test split"
   ]
  },
  {
   "cell_type": "code",
   "execution_count": 12,
   "metadata": {
    "collapsed": true
   },
   "outputs": [],
   "source": [
    "from sklearn.model_selection import train_test_split\n",
    "X_train, X_test, y_train, y_test = train_test_split(X, y, test_size = 0.3, random_state=2324)"
   ]
  },
  {
   "cell_type": "markdown",
   "metadata": {},
   "source": [
    "### Standardizing independent variables"
   ]
  },
  {
   "cell_type": "code",
   "execution_count": 13,
   "metadata": {
    "collapsed": true
   },
   "outputs": [],
   "source": [
    "from sklearn.preprocessing import StandardScaler\n",
    "scaler = StandardScaler()\n",
    "scaler.fit(X_train)\n",
    "\n",
    "X_train_std = pd.DataFrame(scaler.transform(X_train), columns=X_train.columns, index=X_train.index)\n",
    "X_test_std = pd.DataFrame(scaler.transform(X_test), columns=X_test.columns, index=X_test.index)"
   ]
  },
  {
   "cell_type": "markdown",
   "metadata": {},
   "source": [
    "### Checking summary statistics to verify standardization"
   ]
  },
  {
   "cell_type": "code",
   "execution_count": 14,
   "metadata": {
    "collapsed": false
   },
   "outputs": [
    {
     "data": {
      "text/html": [
       "<div>\n",
       "<style scoped>\n",
       "    .dataframe tbody tr th:only-of-type {\n",
       "        vertical-align: middle;\n",
       "    }\n",
       "\n",
       "    .dataframe tbody tr th {\n",
       "        vertical-align: top;\n",
       "    }\n",
       "\n",
       "    .dataframe thead th {\n",
       "        text-align: right;\n",
       "    }\n",
       "</style>\n",
       "<table border=\"1\" class=\"dataframe\">\n",
       "  <thead>\n",
       "    <tr style=\"text-align: right;\">\n",
       "      <th></th>\n",
       "      <th>Age</th>\n",
       "      <th>BMI</th>\n",
       "      <th>DiabetesPedigree</th>\n",
       "      <th>DiastolicBP</th>\n",
       "      <th>PlasmaGlucose</th>\n",
       "      <th>PregnantFreq</th>\n",
       "      <th>SerumInsulin</th>\n",
       "      <th>TricepSkinThickness</th>\n",
       "    </tr>\n",
       "  </thead>\n",
       "  <tbody>\n",
       "    <tr>\n",
       "      <th>count</th>\n",
       "      <td>5.370000e+02</td>\n",
       "      <td>5.370000e+02</td>\n",
       "      <td>5.370000e+02</td>\n",
       "      <td>5.370000e+02</td>\n",
       "      <td>5.370000e+02</td>\n",
       "      <td>5.370000e+02</td>\n",
       "      <td>5.370000e+02</td>\n",
       "      <td>5.370000e+02</td>\n",
       "    </tr>\n",
       "    <tr>\n",
       "      <th>mean</th>\n",
       "      <td>-1.531984e-16</td>\n",
       "      <td>-2.071589e-16</td>\n",
       "      <td>-3.824791e-17</td>\n",
       "      <td>-1.128417e-15</td>\n",
       "      <td>-4.465702e-16</td>\n",
       "      <td>3.059833e-17</td>\n",
       "      <td>-2.112938e-16</td>\n",
       "      <td>-8.848705e-17</td>\n",
       "    </tr>\n",
       "    <tr>\n",
       "      <th>std</th>\n",
       "      <td>1.000932e+00</td>\n",
       "      <td>1.000932e+00</td>\n",
       "      <td>1.000932e+00</td>\n",
       "      <td>1.000932e+00</td>\n",
       "      <td>1.000932e+00</td>\n",
       "      <td>1.000932e+00</td>\n",
       "      <td>1.000932e+00</td>\n",
       "      <td>1.000932e+00</td>\n",
       "    </tr>\n",
       "    <tr>\n",
       "      <th>min</th>\n",
       "      <td>-1.062535e+00</td>\n",
       "      <td>-2.073153e+00</td>\n",
       "      <td>-1.182553e+00</td>\n",
       "      <td>-3.901109e+00</td>\n",
       "      <td>-2.189812e+00</td>\n",
       "      <td>-1.173398e+00</td>\n",
       "      <td>-1.706697e+00</td>\n",
       "      <td>-2.515918e+00</td>\n",
       "    </tr>\n",
       "    <tr>\n",
       "      <th>25%</th>\n",
       "      <td>-8.115833e-01</td>\n",
       "      <td>-7.028923e-01</td>\n",
       "      <td>-6.943776e-01</td>\n",
       "      <td>-7.011507e-01</td>\n",
       "      <td>-7.144832e-01</td>\n",
       "      <td>-8.770130e-01</td>\n",
       "      <td>-4.045946e-01</td>\n",
       "      <td>-4.856906e-01</td>\n",
       "    </tr>\n",
       "    <tr>\n",
       "      <th>50%</th>\n",
       "      <td>-3.096790e-01</td>\n",
       "      <td>-1.776200e-02</td>\n",
       "      <td>-3.153598e-01</td>\n",
       "      <td>-2.874464e-02</td>\n",
       "      <td>-1.444700e-01</td>\n",
       "      <td>-2.842427e-01</td>\n",
       "      <td>3.623793e-02</td>\n",
       "      <td>-1.722467e-02</td>\n",
       "    </tr>\n",
       "    <tr>\n",
       "      <th>75%</th>\n",
       "      <td>6.104789e-01</td>\n",
       "      <td>6.090594e-01</td>\n",
       "      <td>5.245437e-01</td>\n",
       "      <td>5.788328e-01</td>\n",
       "      <td>6.267244e-01</td>\n",
       "      <td>6.049127e-01</td>\n",
       "      <td>3.623793e-02</td>\n",
       "      <td>3.038423e-01</td>\n",
       "    </tr>\n",
       "    <tr>\n",
       "      <th>max</th>\n",
       "      <td>3.956507e+00</td>\n",
       "      <td>5.055118e+00</td>\n",
       "      <td>5.624608e+00</td>\n",
       "      <td>3.298798e+00</td>\n",
       "      <td>2.537945e+00</td>\n",
       "      <td>3.865149e+00</td>\n",
       "      <td>8.598512e+00</td>\n",
       "      <td>7.860800e+00</td>\n",
       "    </tr>\n",
       "  </tbody>\n",
       "</table>\n",
       "</div>"
      ],
      "text/plain": [
       "                Age           BMI  DiabetesPedigree   DiastolicBP  \\\n",
       "count  5.370000e+02  5.370000e+02      5.370000e+02  5.370000e+02   \n",
       "mean  -1.531984e-16 -2.071589e-16     -3.824791e-17 -1.128417e-15   \n",
       "std    1.000932e+00  1.000932e+00      1.000932e+00  1.000932e+00   \n",
       "min   -1.062535e+00 -2.073153e+00     -1.182553e+00 -3.901109e+00   \n",
       "25%   -8.115833e-01 -7.028923e-01     -6.943776e-01 -7.011507e-01   \n",
       "50%   -3.096790e-01 -1.776200e-02     -3.153598e-01 -2.874464e-02   \n",
       "75%    6.104789e-01  6.090594e-01      5.245437e-01  5.788328e-01   \n",
       "max    3.956507e+00  5.055118e+00      5.624608e+00  3.298798e+00   \n",
       "\n",
       "       PlasmaGlucose  PregnantFreq  SerumInsulin  TricepSkinThickness  \n",
       "count   5.370000e+02  5.370000e+02  5.370000e+02         5.370000e+02  \n",
       "mean   -4.465702e-16  3.059833e-17 -2.112938e-16        -8.848705e-17  \n",
       "std     1.000932e+00  1.000932e+00  1.000932e+00         1.000932e+00  \n",
       "min    -2.189812e+00 -1.173398e+00 -1.706697e+00        -2.515918e+00  \n",
       "25%    -7.144832e-01 -8.770130e-01 -4.045946e-01        -4.856906e-01  \n",
       "50%    -1.444700e-01 -2.842427e-01  3.623793e-02        -1.722467e-02  \n",
       "75%     6.267244e-01  6.049127e-01  3.623793e-02         3.038423e-01  \n",
       "max     2.537945e+00  3.865149e+00  8.598512e+00         7.860800e+00  "
      ]
     },
     "execution_count": 14,
     "metadata": {},
     "output_type": "execute_result"
    }
   ],
   "source": [
    "X_train_std.describe()"
   ]
  },
  {
   "cell_type": "markdown",
   "metadata": {},
   "source": [
    "### Building a perceptron (single layer - single node)"
   ]
  },
  {
   "cell_type": "code",
   "execution_count": 15,
   "metadata": {
    "collapsed": false
   },
   "outputs": [
    {
     "name": "stderr",
     "output_type": "stream",
     "text": [
      "Using TensorFlow backend.\n"
     ]
    },
    {
     "name": "stdout",
     "output_type": "stream",
     "text": [
      "Train on 537 samples, validate on 231 samples\n",
      "Epoch 1/200\n",
      "537/537 [==============================] - 1s 938us/step - loss: 10.4060 - acc: 0.3482 - val_loss: 10.3596 - val_acc: 0.3506\n",
      "Epoch 2/200\n",
      "537/537 [==============================] - 0s 83us/step - loss: 6.4546 - acc: 0.4953 - val_loss: 4.2424 - val_acc: 0.4892\n",
      "Epoch 3/200\n",
      "537/537 [==============================] - 0s 87us/step - loss: 2.8137 - acc: 0.5512 - val_loss: 2.8463 - val_acc: 0.5022\n",
      "Epoch 4/200\n",
      "537/537 [==============================] - 0s 204us/step - loss: 1.9754 - acc: 0.5773 - val_loss: 1.3534 - val_acc: 0.6277\n",
      "Epoch 5/200\n",
      "537/537 [==============================] - 0s 98us/step - loss: 1.2724 - acc: 0.5978 - val_loss: 0.9039 - val_acc: 0.6234\n",
      "Epoch 6/200\n",
      "537/537 [==============================] - 0s 95us/step - loss: 1.0644 - acc: 0.5996 - val_loss: 1.0013 - val_acc: 0.5801\n",
      "Epoch 7/200\n",
      "537/537 [==============================] - 0s 89us/step - loss: 1.0358 - acc: 0.6108 - val_loss: 0.7646 - val_acc: 0.6450\n",
      "Epoch 8/200\n",
      "537/537 [==============================] - 0s 87us/step - loss: 0.8466 - acc: 0.6536 - val_loss: 1.0850 - val_acc: 0.5152\n",
      "Epoch 9/200\n",
      "537/537 [==============================] - 0s 78us/step - loss: 1.0573 - acc: 0.6182 - val_loss: 1.0784 - val_acc: 0.5108\n",
      "Epoch 10/200\n",
      "537/537 [==============================] - 0s 91us/step - loss: 0.7677 - acc: 0.6406 - val_loss: 0.7451 - val_acc: 0.7056\n",
      "Epoch 11/200\n",
      "537/537 [==============================] - 0s 89us/step - loss: 0.7657 - acc: 0.6331 - val_loss: 0.7537 - val_acc: 0.6840\n",
      "Epoch 12/200\n",
      "537/537 [==============================] - 0s 80us/step - loss: 0.6869 - acc: 0.6387 - val_loss: 0.5739 - val_acc: 0.7316\n",
      "Epoch 13/200\n",
      "537/537 [==============================] - 0s 84us/step - loss: 0.7120 - acc: 0.6182 - val_loss: 0.5531 - val_acc: 0.7316\n",
      "Epoch 14/200\n",
      "537/537 [==============================] - 0s 80us/step - loss: 0.7396 - acc: 0.6331 - val_loss: 0.5460 - val_acc: 0.7446\n",
      "Epoch 15/200\n",
      "537/537 [==============================] - 0s 98us/step - loss: 0.6318 - acc: 0.6611 - val_loss: 0.5284 - val_acc: 0.7532\n",
      "Epoch 16/200\n",
      "537/537 [==============================] - 0s 89us/step - loss: 0.6709 - acc: 0.6685 - val_loss: 0.5366 - val_acc: 0.7403\n",
      "Epoch 17/200\n",
      "537/537 [==============================] - 0s 93us/step - loss: 0.6734 - acc: 0.6909 - val_loss: 0.6211 - val_acc: 0.6840\n",
      "Epoch 18/200\n",
      "537/537 [==============================] - 0s 80us/step - loss: 0.6525 - acc: 0.6741 - val_loss: 0.5461 - val_acc: 0.7403\n",
      "Epoch 19/200\n",
      "537/537 [==============================] - 0s 104us/step - loss: 0.6452 - acc: 0.6648 - val_loss: 0.6599 - val_acc: 0.6061\n",
      "Epoch 20/200\n",
      "537/537 [==============================] - 0s 97us/step - loss: 0.6415 - acc: 0.6443 - val_loss: 0.5550 - val_acc: 0.7100\n",
      "Epoch 21/200\n",
      " 16/537 [..............................] - ETA: 0s - loss: 0.9251 - acc: 0.5000\n",
      "Epoch 00021: reducing learning rate to 0.0009999999776482583.\n",
      "537/537 [==============================] - 0s 124us/step - loss: 0.6371 - acc: 0.6592 - val_loss: 0.6215 - val_acc: 0.7186\n",
      "Epoch 22/200\n",
      "537/537 [==============================] - 0s 98us/step - loss: 0.6013 - acc: 0.6741 - val_loss: 0.5270 - val_acc: 0.7532\n",
      "Epoch 23/200\n",
      "537/537 [==============================] - 0s 104us/step - loss: 0.5881 - acc: 0.6890 - val_loss: 0.5089 - val_acc: 0.7662\n",
      "Epoch 24/200\n",
      "537/537 [==============================] - 0s 97us/step - loss: 0.5875 - acc: 0.6834 - val_loss: 0.5120 - val_acc: 0.7706\n",
      "Epoch 25/200\n",
      "537/537 [==============================] - 0s 104us/step - loss: 0.5767 - acc: 0.6890 - val_loss: 0.5084 - val_acc: 0.7576\n",
      "Epoch 26/200\n",
      "537/537 [==============================] - 0s 108us/step - loss: 0.5826 - acc: 0.6890 - val_loss: 0.5058 - val_acc: 0.7706\n",
      "Epoch 27/200\n",
      "537/537 [==============================] - 0s 95us/step - loss: 0.5854 - acc: 0.6927 - val_loss: 0.5106 - val_acc: 0.7706\n",
      "Epoch 28/200\n",
      "537/537 [==============================] - 0s 84us/step - loss: 0.5798 - acc: 0.7020 - val_loss: 0.5049 - val_acc: 0.7619\n",
      "Epoch 29/200\n",
      "537/537 [==============================] - 0s 106us/step - loss: 0.5793 - acc: 0.6946 - val_loss: 0.5127 - val_acc: 0.7662\n",
      "Epoch 30/200\n",
      "537/537 [==============================] - 0s 95us/step - loss: 0.5876 - acc: 0.7076 - val_loss: 0.5263 - val_acc: 0.7792\n",
      "Epoch 31/200\n",
      "537/537 [==============================] - 0s 85us/step - loss: 0.5824 - acc: 0.6909 - val_loss: 0.5170 - val_acc: 0.7749\n",
      "Epoch 32/200\n",
      "537/537 [==============================] - 0s 97us/step - loss: 0.5815 - acc: 0.7076 - val_loss: 0.5080 - val_acc: 0.7662\n",
      "Epoch 33/200\n",
      "537/537 [==============================] - 0s 93us/step - loss: 0.5763 - acc: 0.7076 - val_loss: 0.5079 - val_acc: 0.7662\n",
      "Epoch 34/200\n",
      " 16/537 [..............................] - ETA: 0s - loss: 0.7766 - acc: 0.6250\n",
      "Epoch 00034: reducing learning rate to 9.999999310821295e-05.\n",
      "537/537 [==============================] - 0s 91us/step - loss: 0.5827 - acc: 0.6946 - val_loss: 0.5060 - val_acc: 0.7662\n",
      "Epoch 35/200\n",
      "537/537 [==============================] - 0s 93us/step - loss: 0.5758 - acc: 0.6983 - val_loss: 0.5060 - val_acc: 0.7662\n",
      "Epoch 36/200\n",
      "537/537 [==============================] - 0s 95us/step - loss: 0.5752 - acc: 0.7002 - val_loss: 0.5059 - val_acc: 0.7662\n",
      "Epoch 37/200\n",
      "537/537 [==============================] - 0s 102us/step - loss: 0.5748 - acc: 0.7002 - val_loss: 0.5061 - val_acc: 0.7662\n",
      "Epoch 38/200\n",
      "537/537 [==============================] - 0s 84us/step - loss: 0.5748 - acc: 0.6946 - val_loss: 0.5060 - val_acc: 0.7662\n",
      "Epoch 00038: early stopping\n"
     ]
    }
   ],
   "source": [
    "import keras\n",
    "from keras import regularizers, optimizers\n",
    "from keras.layers import Dense\n",
    "from keras.models import Sequential\n",
    "from keras.callbacks import EarlyStopping, ReduceLROnPlateau\n",
    "\n",
    "## Defining my optimizer - Its just a refined form of SGD\n",
    "## ref - https://keras.io/optimizers/\n",
    "adam = keras.optimizers.Adam(lr=0.01, decay=0.0005)\n",
    "\n",
    "## Just a way to define neural nets. There are two ways sequential and functional\n",
    "## Sequential model lets you add neural net layers one after another by calling function\n",
    "model = Sequential()\n",
    "\n",
    "## Adding one layer having only one neuron\n",
    "## Notice our data has 8 input columns which goes into as the \"input_shape\" parameter\n",
    "## Notice the use of l2 regularizer\n",
    "\n",
    "model.add(Dense(1,input_shape=(8,), activation='sigmoid', kernel_regularizer=regularizers.l2()))\n",
    "\n",
    "## Callbacks\n",
    "earlystopper = EarlyStopping(monitor='val_loss', patience=10, verbose=1)\n",
    "reduce_lr = ReduceLROnPlateau(patience=5, verbose=1)\n",
    "\n",
    "## Compiling the model and defining loss function\n",
    "model.compile(optimizer=adam, loss='binary_crossentropy', metrics=['accuracy'])\n",
    "\n",
    "## Training neural nets\n",
    "history = model.fit(X_train, y_train, validation_data=(X_test,y_test), epochs=200, batch_size=16, callbacks=[reduce_lr, earlystopper])"
   ]
  },
  {
   "cell_type": "code",
   "execution_count": 17,
   "metadata": {
    "collapsed": false
   },
   "outputs": [
    {
     "data": {
      "text/html": [
       "<div>\n",
       "<style scoped>\n",
       "    .dataframe tbody tr th:only-of-type {\n",
       "        vertical-align: middle;\n",
       "    }\n",
       "\n",
       "    .dataframe tbody tr th {\n",
       "        vertical-align: top;\n",
       "    }\n",
       "\n",
       "    .dataframe thead th {\n",
       "        text-align: right;\n",
       "    }\n",
       "</style>\n",
       "<table border=\"1\" class=\"dataframe\">\n",
       "  <thead>\n",
       "    <tr style=\"text-align: right;\">\n",
       "      <th></th>\n",
       "      <th>acc</th>\n",
       "      <th>loss</th>\n",
       "      <th>lr</th>\n",
       "      <th>val_acc</th>\n",
       "      <th>val_loss</th>\n",
       "    </tr>\n",
       "  </thead>\n",
       "  <tbody>\n",
       "    <tr>\n",
       "      <th>0</th>\n",
       "      <td>0.348231</td>\n",
       "      <td>10.406028</td>\n",
       "      <td>0.0100</td>\n",
       "      <td>0.350649</td>\n",
       "      <td>10.359594</td>\n",
       "    </tr>\n",
       "    <tr>\n",
       "      <th>1</th>\n",
       "      <td>0.495345</td>\n",
       "      <td>6.454626</td>\n",
       "      <td>0.0100</td>\n",
       "      <td>0.489177</td>\n",
       "      <td>4.242435</td>\n",
       "    </tr>\n",
       "    <tr>\n",
       "      <th>2</th>\n",
       "      <td>0.551210</td>\n",
       "      <td>2.813713</td>\n",
       "      <td>0.0100</td>\n",
       "      <td>0.502165</td>\n",
       "      <td>2.846291</td>\n",
       "    </tr>\n",
       "    <tr>\n",
       "      <th>3</th>\n",
       "      <td>0.577281</td>\n",
       "      <td>1.975372</td>\n",
       "      <td>0.0100</td>\n",
       "      <td>0.627706</td>\n",
       "      <td>1.353412</td>\n",
       "    </tr>\n",
       "    <tr>\n",
       "      <th>4</th>\n",
       "      <td>0.597765</td>\n",
       "      <td>1.272424</td>\n",
       "      <td>0.0100</td>\n",
       "      <td>0.623377</td>\n",
       "      <td>0.903861</td>\n",
       "    </tr>\n",
       "    <tr>\n",
       "      <th>5</th>\n",
       "      <td>0.599628</td>\n",
       "      <td>1.064417</td>\n",
       "      <td>0.0100</td>\n",
       "      <td>0.580087</td>\n",
       "      <td>1.001310</td>\n",
       "    </tr>\n",
       "    <tr>\n",
       "      <th>6</th>\n",
       "      <td>0.610801</td>\n",
       "      <td>1.035798</td>\n",
       "      <td>0.0100</td>\n",
       "      <td>0.645022</td>\n",
       "      <td>0.764627</td>\n",
       "    </tr>\n",
       "    <tr>\n",
       "      <th>7</th>\n",
       "      <td>0.653631</td>\n",
       "      <td>0.846558</td>\n",
       "      <td>0.0100</td>\n",
       "      <td>0.515152</td>\n",
       "      <td>1.085035</td>\n",
       "    </tr>\n",
       "    <tr>\n",
       "      <th>8</th>\n",
       "      <td>0.618250</td>\n",
       "      <td>1.057349</td>\n",
       "      <td>0.0100</td>\n",
       "      <td>0.510823</td>\n",
       "      <td>1.078353</td>\n",
       "    </tr>\n",
       "    <tr>\n",
       "      <th>9</th>\n",
       "      <td>0.640596</td>\n",
       "      <td>0.767661</td>\n",
       "      <td>0.0100</td>\n",
       "      <td>0.705628</td>\n",
       "      <td>0.745096</td>\n",
       "    </tr>\n",
       "    <tr>\n",
       "      <th>10</th>\n",
       "      <td>0.633147</td>\n",
       "      <td>0.765688</td>\n",
       "      <td>0.0100</td>\n",
       "      <td>0.683983</td>\n",
       "      <td>0.753729</td>\n",
       "    </tr>\n",
       "    <tr>\n",
       "      <th>11</th>\n",
       "      <td>0.638734</td>\n",
       "      <td>0.686921</td>\n",
       "      <td>0.0100</td>\n",
       "      <td>0.731602</td>\n",
       "      <td>0.573914</td>\n",
       "    </tr>\n",
       "    <tr>\n",
       "      <th>12</th>\n",
       "      <td>0.618250</td>\n",
       "      <td>0.712007</td>\n",
       "      <td>0.0100</td>\n",
       "      <td>0.731602</td>\n",
       "      <td>0.553121</td>\n",
       "    </tr>\n",
       "    <tr>\n",
       "      <th>13</th>\n",
       "      <td>0.633147</td>\n",
       "      <td>0.739626</td>\n",
       "      <td>0.0100</td>\n",
       "      <td>0.744589</td>\n",
       "      <td>0.546041</td>\n",
       "    </tr>\n",
       "    <tr>\n",
       "      <th>14</th>\n",
       "      <td>0.661080</td>\n",
       "      <td>0.631753</td>\n",
       "      <td>0.0100</td>\n",
       "      <td>0.753247</td>\n",
       "      <td>0.528352</td>\n",
       "    </tr>\n",
       "    <tr>\n",
       "      <th>15</th>\n",
       "      <td>0.668529</td>\n",
       "      <td>0.670902</td>\n",
       "      <td>0.0100</td>\n",
       "      <td>0.740260</td>\n",
       "      <td>0.536646</td>\n",
       "    </tr>\n",
       "    <tr>\n",
       "      <th>16</th>\n",
       "      <td>0.690875</td>\n",
       "      <td>0.673399</td>\n",
       "      <td>0.0100</td>\n",
       "      <td>0.683983</td>\n",
       "      <td>0.621058</td>\n",
       "    </tr>\n",
       "    <tr>\n",
       "      <th>17</th>\n",
       "      <td>0.674115</td>\n",
       "      <td>0.652550</td>\n",
       "      <td>0.0100</td>\n",
       "      <td>0.740260</td>\n",
       "      <td>0.546132</td>\n",
       "    </tr>\n",
       "    <tr>\n",
       "      <th>18</th>\n",
       "      <td>0.664804</td>\n",
       "      <td>0.645198</td>\n",
       "      <td>0.0100</td>\n",
       "      <td>0.606061</td>\n",
       "      <td>0.659864</td>\n",
       "    </tr>\n",
       "    <tr>\n",
       "      <th>19</th>\n",
       "      <td>0.644320</td>\n",
       "      <td>0.641482</td>\n",
       "      <td>0.0100</td>\n",
       "      <td>0.709957</td>\n",
       "      <td>0.555034</td>\n",
       "    </tr>\n",
       "    <tr>\n",
       "      <th>20</th>\n",
       "      <td>0.659218</td>\n",
       "      <td>0.637060</td>\n",
       "      <td>0.0100</td>\n",
       "      <td>0.718615</td>\n",
       "      <td>0.621473</td>\n",
       "    </tr>\n",
       "    <tr>\n",
       "      <th>21</th>\n",
       "      <td>0.674115</td>\n",
       "      <td>0.601281</td>\n",
       "      <td>0.0010</td>\n",
       "      <td>0.753247</td>\n",
       "      <td>0.526999</td>\n",
       "    </tr>\n",
       "    <tr>\n",
       "      <th>22</th>\n",
       "      <td>0.689013</td>\n",
       "      <td>0.588093</td>\n",
       "      <td>0.0010</td>\n",
       "      <td>0.766234</td>\n",
       "      <td>0.508931</td>\n",
       "    </tr>\n",
       "    <tr>\n",
       "      <th>23</th>\n",
       "      <td>0.683426</td>\n",
       "      <td>0.587470</td>\n",
       "      <td>0.0010</td>\n",
       "      <td>0.770563</td>\n",
       "      <td>0.511972</td>\n",
       "    </tr>\n",
       "    <tr>\n",
       "      <th>24</th>\n",
       "      <td>0.689013</td>\n",
       "      <td>0.576683</td>\n",
       "      <td>0.0010</td>\n",
       "      <td>0.757576</td>\n",
       "      <td>0.508373</td>\n",
       "    </tr>\n",
       "    <tr>\n",
       "      <th>25</th>\n",
       "      <td>0.689013</td>\n",
       "      <td>0.582621</td>\n",
       "      <td>0.0010</td>\n",
       "      <td>0.770563</td>\n",
       "      <td>0.505801</td>\n",
       "    </tr>\n",
       "    <tr>\n",
       "      <th>26</th>\n",
       "      <td>0.692737</td>\n",
       "      <td>0.585379</td>\n",
       "      <td>0.0010</td>\n",
       "      <td>0.770563</td>\n",
       "      <td>0.510606</td>\n",
       "    </tr>\n",
       "    <tr>\n",
       "      <th>27</th>\n",
       "      <td>0.702048</td>\n",
       "      <td>0.579833</td>\n",
       "      <td>0.0010</td>\n",
       "      <td>0.761905</td>\n",
       "      <td>0.504874</td>\n",
       "    </tr>\n",
       "    <tr>\n",
       "      <th>28</th>\n",
       "      <td>0.694600</td>\n",
       "      <td>0.579264</td>\n",
       "      <td>0.0010</td>\n",
       "      <td>0.766234</td>\n",
       "      <td>0.512676</td>\n",
       "    </tr>\n",
       "    <tr>\n",
       "      <th>29</th>\n",
       "      <td>0.707635</td>\n",
       "      <td>0.587606</td>\n",
       "      <td>0.0010</td>\n",
       "      <td>0.779221</td>\n",
       "      <td>0.526284</td>\n",
       "    </tr>\n",
       "    <tr>\n",
       "      <th>30</th>\n",
       "      <td>0.690875</td>\n",
       "      <td>0.582352</td>\n",
       "      <td>0.0010</td>\n",
       "      <td>0.774892</td>\n",
       "      <td>0.517046</td>\n",
       "    </tr>\n",
       "    <tr>\n",
       "      <th>31</th>\n",
       "      <td>0.707635</td>\n",
       "      <td>0.581544</td>\n",
       "      <td>0.0010</td>\n",
       "      <td>0.766234</td>\n",
       "      <td>0.508041</td>\n",
       "    </tr>\n",
       "    <tr>\n",
       "      <th>32</th>\n",
       "      <td>0.707635</td>\n",
       "      <td>0.576292</td>\n",
       "      <td>0.0010</td>\n",
       "      <td>0.766234</td>\n",
       "      <td>0.507943</td>\n",
       "    </tr>\n",
       "    <tr>\n",
       "      <th>33</th>\n",
       "      <td>0.694600</td>\n",
       "      <td>0.582711</td>\n",
       "      <td>0.0010</td>\n",
       "      <td>0.766234</td>\n",
       "      <td>0.505996</td>\n",
       "    </tr>\n",
       "    <tr>\n",
       "      <th>34</th>\n",
       "      <td>0.698324</td>\n",
       "      <td>0.575752</td>\n",
       "      <td>0.0001</td>\n",
       "      <td>0.766234</td>\n",
       "      <td>0.505964</td>\n",
       "    </tr>\n",
       "    <tr>\n",
       "      <th>35</th>\n",
       "      <td>0.700186</td>\n",
       "      <td>0.575202</td>\n",
       "      <td>0.0001</td>\n",
       "      <td>0.766234</td>\n",
       "      <td>0.505893</td>\n",
       "    </tr>\n",
       "    <tr>\n",
       "      <th>36</th>\n",
       "      <td>0.700186</td>\n",
       "      <td>0.574789</td>\n",
       "      <td>0.0001</td>\n",
       "      <td>0.766234</td>\n",
       "      <td>0.506120</td>\n",
       "    </tr>\n",
       "    <tr>\n",
       "      <th>37</th>\n",
       "      <td>0.694600</td>\n",
       "      <td>0.574794</td>\n",
       "      <td>0.0001</td>\n",
       "      <td>0.766234</td>\n",
       "      <td>0.506038</td>\n",
       "    </tr>\n",
       "  </tbody>\n",
       "</table>\n",
       "</div>"
      ],
      "text/plain": [
       "         acc       loss      lr   val_acc   val_loss\n",
       "0   0.348231  10.406028  0.0100  0.350649  10.359594\n",
       "1   0.495345   6.454626  0.0100  0.489177   4.242435\n",
       "2   0.551210   2.813713  0.0100  0.502165   2.846291\n",
       "3   0.577281   1.975372  0.0100  0.627706   1.353412\n",
       "4   0.597765   1.272424  0.0100  0.623377   0.903861\n",
       "5   0.599628   1.064417  0.0100  0.580087   1.001310\n",
       "6   0.610801   1.035798  0.0100  0.645022   0.764627\n",
       "7   0.653631   0.846558  0.0100  0.515152   1.085035\n",
       "8   0.618250   1.057349  0.0100  0.510823   1.078353\n",
       "9   0.640596   0.767661  0.0100  0.705628   0.745096\n",
       "10  0.633147   0.765688  0.0100  0.683983   0.753729\n",
       "11  0.638734   0.686921  0.0100  0.731602   0.573914\n",
       "12  0.618250   0.712007  0.0100  0.731602   0.553121\n",
       "13  0.633147   0.739626  0.0100  0.744589   0.546041\n",
       "14  0.661080   0.631753  0.0100  0.753247   0.528352\n",
       "15  0.668529   0.670902  0.0100  0.740260   0.536646\n",
       "16  0.690875   0.673399  0.0100  0.683983   0.621058\n",
       "17  0.674115   0.652550  0.0100  0.740260   0.546132\n",
       "18  0.664804   0.645198  0.0100  0.606061   0.659864\n",
       "19  0.644320   0.641482  0.0100  0.709957   0.555034\n",
       "20  0.659218   0.637060  0.0100  0.718615   0.621473\n",
       "21  0.674115   0.601281  0.0010  0.753247   0.526999\n",
       "22  0.689013   0.588093  0.0010  0.766234   0.508931\n",
       "23  0.683426   0.587470  0.0010  0.770563   0.511972\n",
       "24  0.689013   0.576683  0.0010  0.757576   0.508373\n",
       "25  0.689013   0.582621  0.0010  0.770563   0.505801\n",
       "26  0.692737   0.585379  0.0010  0.770563   0.510606\n",
       "27  0.702048   0.579833  0.0010  0.761905   0.504874\n",
       "28  0.694600   0.579264  0.0010  0.766234   0.512676\n",
       "29  0.707635   0.587606  0.0010  0.779221   0.526284\n",
       "30  0.690875   0.582352  0.0010  0.774892   0.517046\n",
       "31  0.707635   0.581544  0.0010  0.766234   0.508041\n",
       "32  0.707635   0.576292  0.0010  0.766234   0.507943\n",
       "33  0.694600   0.582711  0.0010  0.766234   0.505996\n",
       "34  0.698324   0.575752  0.0001  0.766234   0.505964\n",
       "35  0.700186   0.575202  0.0001  0.766234   0.505893\n",
       "36  0.700186   0.574789  0.0001  0.766234   0.506120\n",
       "37  0.694600   0.574794  0.0001  0.766234   0.506038"
      ]
     },
     "execution_count": 17,
     "metadata": {},
     "output_type": "execute_result"
    }
   ],
   "source": [
    "pd.DataFrame(history.history)"
   ]
  },
  {
   "cell_type": "code",
   "execution_count": 19,
   "metadata": {
    "collapsed": false
   },
   "outputs": [],
   "source": [
    "train_acc = history.history['acc']\n",
    "train_loss = history.history['loss']\n",
    "\n",
    "val_acc = history.history['val_acc']\n",
    "val_loss = history.history['val_loss']"
   ]
  },
  {
   "cell_type": "code",
   "execution_count": 20,
   "metadata": {
    "collapsed": false
   },
   "outputs": [
    {
     "data": {
      "image/png": "[encoded data removed]",
      "text/plain": [
       "<Figure size 1440x360 with 2 Axes>"
      ]
     },
     "metadata": {},
     "output_type": "display_data"
    }
   ],
   "source": [
    "from matplotlib import pyplot as plt #plt is a visualization module in matplotlib.  \n",
    "%matplotlib inline \n",
    "plt.figure(figsize=(20,5))\n",
    "plt.subplot(1,2,1)\n",
    "plt.xlabel('Epochs')\n",
    "plt.ylabel('Loss')\n",
    "plt.plot(train_loss)\n",
    "plt.plot(val_loss)\n",
    "\n",
    "plt.subplot(1,2,2)\n",
    "plt.xlabel('Epochs')\n",
    "plt.ylabel('Accuracy')\n",
    "plt.plot(train_acc)\n",
    "plt.plot(val_acc)\n",
    "plt.show()"
   ]
  },
  {
   "cell_type": "code",
   "execution_count": 26,
   "metadata": {
    "collapsed": false
   },
   "outputs": [],
   "source": [
    "# !pip install graphviz"
   ]
  },
  {
   "cell_type": "code",
   "execution_count": 31,
   "metadata": {
    "collapsed": false
   },
   "outputs": [],
   "source": [
    "from ann_visualizer.visualize import ann_viz\n",
    "ann_viz(model,title=\"mlp neural network\")"
   ]
  },
  {
   "cell_type": "markdown",
   "metadata": {},
   "source": [
    "### Perceptron performance"
   ]
  },
  {
   "cell_type": "code",
   "execution_count": 28,
   "metadata": {
    "collapsed": false
   },
   "outputs": [
    {
     "name": "stdout",
     "output_type": "stream",
     "text": [
      "Train Accuracy : 0.6964618249534451\n",
      "Test_Accuray   :  0.7662337662337663\n"
     ]
    }
   ],
   "source": [
    "from sklearn.metrics import accuracy_score\n",
    "perceptron_train_preds = model.predict_classes(X_train)\n",
    "perceptron_test_preds = model.predict_classes(X_test)\n",
    "\n",
    "print(\"Train Accuracy :\",accuracy_score(y_train,perceptron_train_preds))\n",
    "print(\"Test_Accuray   : \",accuracy_score(y_test,perceptron_test_preds))"
   ]
  },
  {
   "cell_type": "markdown",
   "metadata": {},
   "source": [
    "### Checking Logistic Regression performance"
   ]
  },
  {
   "cell_type": "code",
   "execution_count": 29,
   "metadata": {
    "collapsed": false
   },
   "outputs": [
    {
     "data": {
      "text/plain": [
       "LogisticRegression(C=1.0, class_weight=None, dual=False, fit_intercept=True,\n",
       "          intercept_scaling=1, max_iter=100, multi_class='warn',\n",
       "          n_jobs=None, penalty='l2', random_state=1234, solver='warn',\n",
       "          tol=0.01, verbose=0, warm_start=False)"
      ]
     },
     "execution_count": 29,
     "metadata": {},
     "output_type": "execute_result"
    }
   ],
   "source": [
    "from sklearn.linear_model import LogisticRegression\n",
    "from sklearn.metrics import accuracy_score\n",
    "\n",
    "logistic_model = LogisticRegression(random_state=1234,tol=0.01)\n",
    "\n",
    "logistic_model.fit(X_train,y_train)"
   ]
  },
  {
   "cell_type": "code",
   "execution_count": 30,
   "metadata": {
    "collapsed": false
   },
   "outputs": [
    {
     "name": "stdout",
     "output_type": "stream",
     "text": [
      "Train Accuracy :   0.6983240223463687\n",
      "Test Accuracy  :   0.7619047619047619\n"
     ]
    }
   ],
   "source": [
    "logistic_train_preds = logistic_model.predict(X_train)\n",
    "logistic_test_preds = logistic_model.predict(X_test)\n",
    "\n",
    "print(\"Train Accuracy :  \",accuracy_score(y_train,logistic_train_preds))\n",
    "print(\"Test Accuracy  :  \",accuracy_score(y_test,logistic_test_preds))"
   ]
  },
  {
   "cell_type": "markdown",
   "metadata": {},
   "source": [
    "## Multilayer Perceptron"
   ]
  },
  {
   "cell_type": "code",
   "execution_count": 42,
   "metadata": {
    "collapsed": false
   },
   "outputs": [
    {
     "name": "stdout",
     "output_type": "stream",
     "text": [
      "Train on 537 samples, validate on 231 samples\n",
      "Epoch 1/200\n",
      "537/537 [==============================] - 0s 901us/step - loss: 5.6203 - acc: 0.6518 - val_loss: 5.6545 - val_acc: 0.6494\n",
      "Epoch 2/200\n",
      "537/537 [==============================] - 0s 88us/step - loss: 5.6140 - acc: 0.6518 - val_loss: 5.6521 - val_acc: 0.6494\n",
      "Epoch 3/200\n",
      "537/537 [==============================] - 0s 95us/step - loss: 5.1538 - acc: 0.6164 - val_loss: 2.6396 - val_acc: 0.6494\n",
      "Epoch 4/200\n",
      "537/537 [==============================] - 0s 91us/step - loss: 0.9290 - acc: 0.5996 - val_loss: 0.5963 - val_acc: 0.7489\n",
      "Epoch 5/200\n",
      "537/537 [==============================] - 0s 104us/step - loss: 0.6437 - acc: 0.6574 - val_loss: 0.6097 - val_acc: 0.7100\n",
      "Epoch 6/200\n",
      "537/537 [==============================] - 0s 97us/step - loss: 0.6179 - acc: 0.6648 - val_loss: 0.5673 - val_acc: 0.7316\n",
      "Epoch 7/200\n",
      "537/537 [==============================] - 0s 108us/step - loss: 0.6161 - acc: 0.6723 - val_loss: 0.5734 - val_acc: 0.6970\n",
      "Epoch 8/200\n",
      "537/537 [==============================] - 0s 97us/step - loss: 0.6247 - acc: 0.6536 - val_loss: 0.5716 - val_acc: 0.6970\n",
      "Epoch 9/200\n",
      "537/537 [==============================] - 0s 97us/step - loss: 0.6229 - acc: 0.6667 - val_loss: 0.5463 - val_acc: 0.7186\n",
      "Epoch 10/200\n",
      "537/537 [==============================] - 0s 97us/step - loss: 0.6057 - acc: 0.6723 - val_loss: 0.5396 - val_acc: 0.7576\n",
      "Epoch 11/200\n",
      "537/537 [==============================] - 0s 98us/step - loss: 0.6049 - acc: 0.6983 - val_loss: 0.5491 - val_acc: 0.7662\n",
      "Epoch 12/200\n",
      "537/537 [==============================] - 0s 91us/step - loss: 0.5990 - acc: 0.6927 - val_loss: 0.5391 - val_acc: 0.7576\n",
      "Epoch 13/200\n",
      "537/537 [==============================] - 0s 98us/step - loss: 0.6097 - acc: 0.6685 - val_loss: 0.5680 - val_acc: 0.7359\n",
      "Epoch 14/200\n",
      "537/537 [==============================] - 0s 89us/step - loss: 0.5949 - acc: 0.6965 - val_loss: 0.5362 - val_acc: 0.7316\n",
      "Epoch 15/200\n",
      "537/537 [==============================] - 0s 95us/step - loss: 0.5951 - acc: 0.6946 - val_loss: 0.5556 - val_acc: 0.7100\n",
      "Epoch 16/200\n",
      "537/537 [==============================] - 0s 91us/step - loss: 0.6013 - acc: 0.6872 - val_loss: 0.5292 - val_acc: 0.7619\n",
      "Epoch 17/200\n",
      "537/537 [==============================] - 0s 98us/step - loss: 0.5863 - acc: 0.7132 - val_loss: 0.5238 - val_acc: 0.7706\n",
      "Epoch 18/200\n",
      "537/537 [==============================] - 0s 91us/step - loss: 0.5904 - acc: 0.6983 - val_loss: 0.5206 - val_acc: 0.7706\n",
      "Epoch 19/200\n",
      "537/537 [==============================] - 0s 108us/step - loss: 0.5828 - acc: 0.6816 - val_loss: 0.5265 - val_acc: 0.7662\n",
      "Epoch 20/200\n",
      "537/537 [==============================] - 0s 98us/step - loss: 0.5836 - acc: 0.6890 - val_loss: 0.5175 - val_acc: 0.7576\n",
      "Epoch 21/200\n",
      "537/537 [==============================] - 0s 110us/step - loss: 0.5750 - acc: 0.7020 - val_loss: 0.5118 - val_acc: 0.7662\n",
      "Epoch 22/200\n",
      "537/537 [==============================] - 0s 102us/step - loss: 0.5756 - acc: 0.7020 - val_loss: 0.5135 - val_acc: 0.7749\n",
      "Epoch 23/200\n",
      "537/537 [==============================] - 0s 100us/step - loss: 0.5756 - acc: 0.7002 - val_loss: 0.5097 - val_acc: 0.7619\n",
      "Epoch 24/200\n",
      "537/537 [==============================] - 0s 93us/step - loss: 0.5872 - acc: 0.6909 - val_loss: 0.5338 - val_acc: 0.7446\n",
      "Epoch 25/200\n",
      "537/537 [==============================] - 0s 104us/step - loss: 0.5716 - acc: 0.7020 - val_loss: 0.5102 - val_acc: 0.7706\n",
      "Epoch 26/200\n",
      "537/537 [==============================] - 0s 85us/step - loss: 0.5736 - acc: 0.7095 - val_loss: 0.5079 - val_acc: 0.7446\n",
      "Epoch 27/200\n",
      "537/537 [==============================] - 0s 110us/step - loss: 0.5867 - acc: 0.6946 - val_loss: 0.5399 - val_acc: 0.7316\n",
      "Epoch 28/200\n",
      "537/537 [==============================] - 0s 95us/step - loss: 0.5832 - acc: 0.6965 - val_loss: 0.5252 - val_acc: 0.7662\n",
      "Epoch 29/200\n",
      "537/537 [==============================] - 0s 102us/step - loss: 0.5694 - acc: 0.7058 - val_loss: 0.5078 - val_acc: 0.7706\n",
      "Epoch 30/200\n",
      "537/537 [==============================] - 0s 95us/step - loss: 0.5656 - acc: 0.7169 - val_loss: 0.5283 - val_acc: 0.7446\n",
      "Epoch 31/200\n",
      "537/537 [==============================] - 0s 104us/step - loss: 0.5807 - acc: 0.6927 - val_loss: 0.5131 - val_acc: 0.7792\n",
      "Epoch 32/200\n",
      "537/537 [==============================] - 0s 95us/step - loss: 0.5603 - acc: 0.7188 - val_loss: 0.5024 - val_acc: 0.7662\n",
      "Epoch 33/200\n",
      "537/537 [==============================] - 0s 111us/step - loss: 0.5634 - acc: 0.7169 - val_loss: 0.5129 - val_acc: 0.7706\n",
      "Epoch 34/200\n",
      "537/537 [==============================] - 0s 113us/step - loss: 0.5697 - acc: 0.7095 - val_loss: 0.5106 - val_acc: 0.7662\n",
      "Epoch 35/200\n",
      "537/537 [==============================] - 0s 98us/step - loss: 0.5595 - acc: 0.7188 - val_loss: 0.5008 - val_acc: 0.7706\n",
      "Epoch 36/200\n",
      "537/537 [==============================] - 0s 111us/step - loss: 0.5591 - acc: 0.7058 - val_loss: 0.5114 - val_acc: 0.7532\n",
      "Epoch 37/200\n",
      "537/537 [==============================] - 0s 98us/step - loss: 0.5590 - acc: 0.7281 - val_loss: 0.5007 - val_acc: 0.7706\n",
      "Epoch 38/200\n",
      "537/537 [==============================] - 0s 102us/step - loss: 0.5579 - acc: 0.7132 - val_loss: 0.4966 - val_acc: 0.7532\n",
      "Epoch 39/200\n",
      "537/537 [==============================] - 0s 104us/step - loss: 0.5604 - acc: 0.7207 - val_loss: 0.4980 - val_acc: 0.7532\n",
      "Epoch 40/200\n",
      "537/537 [==============================] - 0s 106us/step - loss: 0.5580 - acc: 0.7263 - val_loss: 0.4962 - val_acc: 0.7706\n",
      "Epoch 41/200\n",
      "537/537 [==============================] - 0s 104us/step - loss: 0.5522 - acc: 0.7151 - val_loss: 0.4971 - val_acc: 0.7792\n",
      "Epoch 42/200\n",
      "537/537 [==============================] - 0s 87us/step - loss: 0.5471 - acc: 0.7281 - val_loss: 0.5427 - val_acc: 0.7056\n",
      "Epoch 43/200\n",
      "537/537 [==============================] - 0s 102us/step - loss: 0.5713 - acc: 0.7058 - val_loss: 0.4995 - val_acc: 0.7749\n",
      "Epoch 44/200\n",
      "537/537 [==============================] - 0s 106us/step - loss: 0.5649 - acc: 0.7151 - val_loss: 0.4987 - val_acc: 0.7792\n",
      "Epoch 45/200\n",
      "537/537 [==============================] - 0s 97us/step - loss: 0.5509 - acc: 0.7095 - val_loss: 0.4902 - val_acc: 0.7706\n",
      "Epoch 46/200\n",
      "537/537 [==============================] - 0s 84us/step - loss: 0.5500 - acc: 0.7244 - val_loss: 0.4948 - val_acc: 0.7706\n",
      "Epoch 47/200\n",
      "537/537 [==============================] - 0s 84us/step - loss: 0.5551 - acc: 0.7151 - val_loss: 0.5172 - val_acc: 0.7446\n",
      "Epoch 48/200\n",
      "537/537 [==============================] - 0s 82us/step - loss: 0.5627 - acc: 0.7095 - val_loss: 0.4893 - val_acc: 0.7749\n",
      "Epoch 49/200\n",
      "537/537 [==============================] - 0s 85us/step - loss: 0.5494 - acc: 0.7076 - val_loss: 0.5025 - val_acc: 0.7662\n",
      "Epoch 50/200\n",
      "537/537 [==============================] - 0s 82us/step - loss: 0.5557 - acc: 0.7169 - val_loss: 0.4973 - val_acc: 0.7662\n",
      "Epoch 51/200\n",
      "537/537 [==============================] - 0s 89us/step - loss: 0.5591 - acc: 0.7225 - val_loss: 0.4982 - val_acc: 0.7619\n",
      "Epoch 52/200\n",
      "537/537 [==============================] - 0s 80us/step - loss: 0.5520 - acc: 0.7225 - val_loss: 0.4996 - val_acc: 0.7662\n",
      "Epoch 53/200\n",
      "537/537 [==============================] - 0s 85us/step - loss: 0.5468 - acc: 0.7132 - val_loss: 0.4918 - val_acc: 0.7662\n",
      "Epoch 54/200\n",
      "537/537 [==============================] - 0s 84us/step - loss: 0.5462 - acc: 0.7151 - val_loss: 0.4843 - val_acc: 0.7662\n",
      "Epoch 55/200\n",
      "537/537 [==============================] - 0s 89us/step - loss: 0.5390 - acc: 0.7244 - val_loss: 0.4951 - val_acc: 0.7619\n",
      "Epoch 56/200\n",
      "537/537 [==============================] - 0s 97us/step - loss: 0.5508 - acc: 0.7263 - val_loss: 0.4906 - val_acc: 0.7446\n",
      "Epoch 57/200\n",
      "537/537 [==============================] - 0s 95us/step - loss: 0.5380 - acc: 0.7412 - val_loss: 0.4856 - val_acc: 0.7792\n",
      "Epoch 58/200\n",
      "537/537 [==============================] - 0s 113us/step - loss: 0.5399 - acc: 0.7263 - val_loss: 0.4852 - val_acc: 0.7706\n",
      "Epoch 59/200\n",
      "537/537 [==============================] - 0s 91us/step - loss: 0.5445 - acc: 0.7169 - val_loss: 0.4871 - val_acc: 0.7706\n",
      "Epoch 60/200\n",
      " 16/537 [..............................] - ETA: 0s - loss: 0.5064 - acc: 0.6875\n",
      "Epoch 00060: reducing learning rate to 0.0009999999776482583.\n",
      "537/537 [==============================] - 0s 186us/step - loss: 0.5434 - acc: 0.7300 - val_loss: 0.4879 - val_acc: 0.7749\n",
      "Epoch 61/200\n",
      "537/537 [==============================] - 0s 93us/step - loss: 0.5329 - acc: 0.7244 - val_loss: 0.4859 - val_acc: 0.7835\n",
      "Epoch 62/200\n",
      "537/537 [==============================] - 0s 85us/step - loss: 0.5314 - acc: 0.7337 - val_loss: 0.4838 - val_acc: 0.7792\n",
      "Epoch 63/200\n",
      "537/537 [==============================] - 0s 87us/step - loss: 0.5318 - acc: 0.7412 - val_loss: 0.4828 - val_acc: 0.7749\n",
      "Epoch 64/200\n",
      "537/537 [==============================] - 0s 89us/step - loss: 0.5306 - acc: 0.7374 - val_loss: 0.4822 - val_acc: 0.7706\n",
      "Epoch 65/200\n",
      "537/537 [==============================] - 0s 106us/step - loss: 0.5307 - acc: 0.7337 - val_loss: 0.4819 - val_acc: 0.7662\n",
      "Epoch 66/200\n",
      "537/537 [==============================] - 0s 98us/step - loss: 0.5311 - acc: 0.7318 - val_loss: 0.4818 - val_acc: 0.7749\n",
      "Epoch 67/200\n",
      "537/537 [==============================] - 0s 102us/step - loss: 0.5301 - acc: 0.7356 - val_loss: 0.4812 - val_acc: 0.7706\n",
      "Epoch 68/200\n",
      "537/537 [==============================] - 0s 93us/step - loss: 0.5301 - acc: 0.7412 - val_loss: 0.4815 - val_acc: 0.7706\n",
      "Epoch 69/200\n",
      "537/537 [==============================] - 0s 97us/step - loss: 0.5314 - acc: 0.7300 - val_loss: 0.4818 - val_acc: 0.7792\n",
      "Epoch 70/200\n",
      "537/537 [==============================] - 0s 87us/step - loss: 0.5305 - acc: 0.7374 - val_loss: 0.4812 - val_acc: 0.7706\n",
      "Epoch 71/200\n",
      "537/537 [==============================] - 0s 85us/step - loss: 0.5298 - acc: 0.7318 - val_loss: 0.4815 - val_acc: 0.7619\n",
      "Epoch 72/200\n",
      "537/537 [==============================] - 0s 84us/step - loss: 0.5295 - acc: 0.7337 - val_loss: 0.4806 - val_acc: 0.7706\n",
      "Epoch 73/200\n",
      "537/537 [==============================] - 0s 82us/step - loss: 0.5296 - acc: 0.7374 - val_loss: 0.4810 - val_acc: 0.7662\n",
      "Epoch 74/200\n",
      "537/537 [==============================] - 0s 84us/step - loss: 0.5291 - acc: 0.7337 - val_loss: 0.4807 - val_acc: 0.7706\n",
      "Epoch 75/200\n",
      "537/537 [==============================] - 0s 80us/step - loss: 0.5296 - acc: 0.7374 - val_loss: 0.4804 - val_acc: 0.7749\n",
      "Epoch 76/200\n",
      "537/537 [==============================] - 0s 89us/step - loss: 0.5297 - acc: 0.7337 - val_loss: 0.4800 - val_acc: 0.7706\n",
      "Epoch 77/200\n",
      "537/537 [==============================] - 0s 87us/step - loss: 0.5289 - acc: 0.7337 - val_loss: 0.4803 - val_acc: 0.7662\n",
      "Epoch 78/200\n",
      "537/537 [==============================] - 0s 89us/step - loss: 0.5298 - acc: 0.7393 - val_loss: 0.4797 - val_acc: 0.7662\n",
      "Epoch 79/200\n",
      "537/537 [==============================] - 0s 82us/step - loss: 0.5295 - acc: 0.7318 - val_loss: 0.4798 - val_acc: 0.7749\n",
      "Epoch 80/200\n",
      "537/537 [==============================] - 0s 89us/step - loss: 0.5292 - acc: 0.7337 - val_loss: 0.4799 - val_acc: 0.7706\n",
      "Epoch 81/200\n",
      "537/537 [==============================] - 0s 89us/step - loss: 0.5282 - acc: 0.7337 - val_loss: 0.4799 - val_acc: 0.7706\n",
      "Epoch 82/200\n",
      "537/537 [==============================] - 0s 89us/step - loss: 0.5284 - acc: 0.7337 - val_loss: 0.4798 - val_acc: 0.7706\n",
      "Epoch 83/200\n",
      "537/537 [==============================] - 0s 85us/step - loss: 0.5283 - acc: 0.7300 - val_loss: 0.4800 - val_acc: 0.7706\n",
      "Epoch 84/200\n",
      " 16/537 [..............................] - ETA: 0s - loss: 0.5008 - acc: 0.6875\n",
      "Epoch 00084: reducing learning rate to 9.999999310821295e-05.\n",
      "537/537 [==============================] - 0s 106us/step - loss: 0.5288 - acc: 0.7374 - val_loss: 0.4801 - val_acc: 0.7749\n",
      "Epoch 85/200\n",
      "537/537 [==============================] - 0s 104us/step - loss: 0.5273 - acc: 0.7393 - val_loss: 0.4799 - val_acc: 0.7706\n",
      "Epoch 86/200\n",
      "537/537 [==============================] - 0s 113us/step - loss: 0.5273 - acc: 0.7393 - val_loss: 0.4799 - val_acc: 0.7662\n",
      "Epoch 87/200\n",
      "537/537 [==============================] - 0s 98us/step - loss: 0.5271 - acc: 0.7393 - val_loss: 0.4798 - val_acc: 0.7662\n",
      "Epoch 88/200\n",
      "537/537 [==============================] - 0s 98us/step - loss: 0.5271 - acc: 0.7393 - val_loss: 0.4798 - val_acc: 0.7662\n"
     ]
    }
   ],
   "source": [
    "import keras\n",
    "from keras import regularizers, optimizers\n",
    "from keras.layers import Dense\n",
    "from keras.models import Sequential\n",
    "from keras.callbacks import EarlyStopping, ReduceLROnPlateau\n",
    "\n",
    "## Defining my optimizer - Its just a refined form of SGD\n",
    "## ref - https://keras.io/optimizers/\n",
    "adam = keras.optimizers.Adam(lr=0.01, decay=0.0005)\n",
    "\n",
    "## Just a way to define neural nets. There are two ways sequential and functional\n",
    "## Sequential model lets you add neural net layers one after another by calling function\n",
    "model = Sequential()\n",
    "\n",
    "## Adding one layer having only one neuron\n",
    "## Notice our data has 8 input columns which goes into as the \"input_shape\" parameter\n",
    "## Notice the use of l2 regularizer\n",
    "model.add(Dense(5, input_shape=(8,)))\n",
    "model.add(Dense(8,))\n",
    "model.add(Dense(1, activation='sigmoid', kernel_regularizer=regularizers.l2()))\n",
    "\n",
    "## Callbacks\n",
    "earlystopper = EarlyStopping(monitor='val_loss', patience=10)\n",
    "reduce_lr = ReduceLROnPlateau(patience=5, verbose=1)\n",
    "\n",
    "## Compiling the model and defining loss function\n",
    "model.compile(optimizer=adam, loss='binary_crossentropy', metrics=['accuracy'])\n",
    "\n",
    "## Training neural nets\n",
    "history = model.fit(X_train, y_train, validation_data=(X_test,y_test), epochs=200, batch_size=16, callbacks=[reduce_lr, earlystopper])"
   ]
  },
  {
   "cell_type": "code",
   "execution_count": 43,
   "metadata": {
    "collapsed": false
   },
   "outputs": [
    {
     "name": "stdout",
     "output_type": "stream",
     "text": [
      "_________________________________________________________________\n",
      "Layer (type)                 Output Shape              Param #   \n",
      "=================================================================\n",
      "dense_8 (Dense)              (None, 5)                 45        \n",
      "_________________________________________________________________\n",
      "dense_9 (Dense)              (None, 8)                 48        \n",
      "_________________________________________________________________\n",
      "dense_10 (Dense)             (None, 1)                 9         \n",
      "=================================================================\n",
      "Total params: 102\n",
      "Trainable params: 102\n",
      "Non-trainable params: 0\n",
      "_________________________________________________________________\n"
     ]
    }
   ],
   "source": [
    "model.summary()"
   ]
  },
  {
   "cell_type": "code",
   "execution_count": 35,
   "metadata": {
    "collapsed": false
   },
   "outputs": [
    {
     "data": {
      "text/plain": [
       "[<matplotlib.lines.Line2D at 0x1830f4d1828>]"
      ]
     },
     "execution_count": 35,
     "metadata": {},
     "output_type": "execute_result"
    },
    {
     "data": {
      "image/png": "[encoded data removed]",
      "text/plain": [
       "<Figure size 1440x360 with 2 Axes>"
      ]
     },
     "metadata": {},
     "output_type": "display_data"
    }
   ],
   "source": [
    "train_acc = history.history['acc']\n",
    "train_loss = history.history['loss']\n",
    "\n",
    "val_acc = history.history['val_acc']\n",
    "val_loss = history.history['val_loss']\n",
    "\n",
    "from matplotlib import pyplot as plt #plt is a visualization module in matplotlib.  \n",
    "%matplotlib inline \n",
    "plt.figure(figsize=(20,5))\n",
    "plt.subplot(1,2,1)\n",
    "plt.xlabel('Epochs')\n",
    "plt.ylabel('Loss')\n",
    "plt.plot(train_loss)\n",
    "plt.plot(val_loss)\n",
    "\n",
    "plt.subplot(1,2,2)\n",
    "plt.xlabel('Epochs')\n",
    "plt.ylabel('Accuracy')\n",
    "plt.plot(train_acc)\n",
    "plt.plot(val_acc)"
   ]
  },
  {
   "cell_type": "code",
   "execution_count": 36,
   "metadata": {
    "collapsed": true
   },
   "outputs": [],
   "source": [
    "ann_viz(model,title=\"mlp neural network\")"
   ]
  },
  {
   "cell_type": "code",
   "execution_count": 37,
   "metadata": {
    "collapsed": false
   },
   "outputs": [
    {
     "name": "stdout",
     "output_type": "stream",
     "text": [
      "Train Accuracy :   0.7188081936685289\n",
      "Test Accuracy  :   0.7662337662337663\n"
     ]
    }
   ],
   "source": [
    "from sklearn.metrics import accuracy_score\n",
    "mlp_train_preds = model.predict_classes(X_train)\n",
    "mlp_test_preds = model.predict_classes(X_test)\n",
    "\n",
    "print(\"Train Accuracy :  \",accuracy_score(y_train,mlp_train_preds))\n",
    "print(\"Test Accuracy  :  \",accuracy_score(y_test,mlp_test_preds))"
   ]
  },
  {
   "cell_type": "markdown",
   "metadata": {},
   "source": [
    "## SKLEARN MLP CLASSIFIER"
   ]
  },
  {
   "cell_type": "code",
   "execution_count": 38,
   "metadata": {
    "collapsed": false
   },
   "outputs": [
    {
     "data": {
      "text/plain": [
       "MLPClassifier(activation='logistic', alpha=0.0001, batch_size=64, beta_1=0.9,\n",
       "       beta_2=0.999, early_stopping=False, epsilon=1e-08,\n",
       "       hidden_layer_sizes=(21,), learning_rate='constant',\n",
       "       learning_rate_init=0.001, max_iter=200, momentum=0.9,\n",
       "       n_iter_no_change=10, nesterovs_momentum=True, power_t=0.5,\n",
       "       random_state=1234, shuffle=True, solver='adam', tol=0.0001,\n",
       "       validation_fraction=0.1, verbose=False, warm_start=False)"
      ]
     },
     "execution_count": 38,
     "metadata": {},
     "output_type": "execute_result"
    }
   ],
   "source": [
    "from sklearn.neural_network import MLPClassifier\n",
    "model = MLPClassifier(activation='logistic',batch_size=64,random_state=1234,hidden_layer_sizes=(21,))\n",
    "model.fit(X_train,y_train)"
   ]
  },
  {
   "cell_type": "code",
   "execution_count": 39,
   "metadata": {
    "collapsed": false
   },
   "outputs": [
    {
     "name": "stdout",
     "output_type": "stream",
     "text": [
      "Train Accuracy  :   0.74487895716946\n",
      "Test Accuracy   :   0.7359307359307359\n"
     ]
    }
   ],
   "source": [
    "from sklearn.metrics import accuracy_score\n",
    "sklearn_mlp_train_preds = model.predict(X_train)\n",
    "sklearn_mlp_test_preds = model.predict(X_test)\n",
    "\n",
    "print(\"Train Accuracy  :  \",accuracy_score(y_train,sklearn_mlp_train_preds))\n",
    "print(\"Test Accuracy   :  \",accuracy_score(y_test,sklearn_mlp_test_preds))"
   ]
  },
  {
   "cell_type": "markdown",
   "metadata": {},
   "source": [
    "## Grid Search CV"
   ]
  },
  {
   "cell_type": "markdown",
   "metadata": {},
   "source": [
    "#### Scoring with f1-score"
   ]
  },
  {
   "cell_type": "code",
   "execution_count": 40,
   "metadata": {
    "collapsed": false
   },
   "outputs": [
    {
     "name": "stderr",
     "output_type": "stream",
     "text": [
      "C:\\Users\\Classroom4\\Anaconda3\\lib\\site-packages\\sklearn\\model_selection\\_search.py:841: DeprecationWarning: The default of the `iid` parameter will change from True to False in version 0.22 and will be removed in 0.24. This will change numeric results when test-set sizes are unequal.\n",
      "  DeprecationWarning)\n"
     ]
    },
    {
     "data": {
      "text/plain": [
       "MLPClassifier(activation='logistic', alpha=0.0001, batch_size=16, beta_1=0.9,\n",
       "       beta_2=0.999, early_stopping=False, epsilon=1e-08,\n",
       "       hidden_layer_sizes=(21,), learning_rate='constant',\n",
       "       learning_rate_init=0.001, max_iter=200, momentum=0.9,\n",
       "       n_iter_no_change=10, nesterovs_momentum=True, power_t=0.5,\n",
       "       random_state=1234, shuffle=True, solver='adam', tol=0.0001,\n",
       "       validation_fraction=0.1, verbose=False, warm_start=False)"
      ]
     },
     "execution_count": 40,
     "metadata": {},
     "output_type": "execute_result"
    }
   ],
   "source": [
    "from sklearn.model_selection import RandomizedSearchCV,GridSearchCV\n",
    "from sklearn.metrics import make_scorer\n",
    "from sklearn.metrics import f1_score,recall_score\n",
    "\n",
    "mlp_grid=  MLPClassifier(activation='logistic',random_state=1234)\n",
    "# Use a grid over parameters of interest\n",
    "\n",
    "\n",
    "param_grid = {\"batch_size\" : [16, 32, 64, 128],\n",
    "           \"hidden_layer_sizes\" : [(11,), (15,), (19,),(21,)],\n",
    "           \"max_iter\" : [50, 100, 150, 200]}\n",
    " \n",
    "mlp_cv_grid = GridSearchCV(estimator = mlp_grid, param_grid = param_grid, cv = 3,\n",
    "                                scoring = make_scorer(lambda yt,yp: recall_score(yt,yp,pos_label = 1)))\n",
    "mlp_cv_grid.fit(X_train, y_train)\n",
    "mlp_cv_grid.best_estimator_"
   ]
  },
  {
   "cell_type": "code",
   "execution_count": 41,
   "metadata": {
    "collapsed": false
   },
   "outputs": [
    {
     "name": "stdout",
     "output_type": "stream",
     "text": [
      "Train Accuracy  :   0.7560521415270018\n",
      "Test Accuracy   :   0.7489177489177489\n"
     ]
    }
   ],
   "source": [
    "sklearn_mlp_train_preds = mlp_cv_grid.best_estimator_.predict(X_train)\n",
    "sklearn_mlp_test_preds = mlp_cv_grid.best_estimator_.predict(X_test)\n",
    "\n",
    "print(\"Train Accuracy  :  \",accuracy_score(y_train,sklearn_mlp_train_preds))\n",
    "print(\"Test Accuracy   :  \",accuracy_score(y_test,sklearn_mlp_test_preds))"
   ]
  },
  {
   "cell_type": "markdown",
   "metadata": {},
   "source": [
    "#### Scoring with Accuracy"
   ]
  },
  {
   "cell_type": "code",
   "execution_count": 22,
   "metadata": {
    "collapsed": false
   },
   "outputs": [
    {
     "data": {
      "text/plain": [
       "MLPClassifier(activation='logistic', alpha=0.0001, batch_size=16, beta_1=0.9,\n",
       "              beta_2=0.999, early_stopping=False, epsilon=1e-08,\n",
       "              hidden_layer_sizes=(19,), learning_rate='constant',\n",
       "              learning_rate_init=0.001, max_iter=150, momentum=0.9,\n",
       "              n_iter_no_change=10, nesterovs_momentum=True, power_t=0.5,\n",
       "              random_state=1234, shuffle=True, solver='adam', tol=0.0001,\n",
       "              validation_fraction=0.1, verbose=False, warm_start=False)"
      ]
     },
     "execution_count": 22,
     "metadata": {},
     "output_type": "execute_result"
    }
   ],
   "source": [
    "from sklearn.model_selection import RandomizedSearchCV,GridSearchCV\n",
    "from sklearn.metrics import make_scorer\n",
    "from sklearn.metrics import f1_score\n",
    "\n",
    "mlp_grid=  MLPClassifier(activation='logistic',random_state=1234)\n",
    "# Use a grid over parameters of interest\n",
    "\n",
    "\n",
    "param_grid = {\"batch_size\" : [16, 32, 64, 128],\n",
    "           \"hidden_layer_sizes\" : [(11,), (15,), (19,),(21,)],\n",
    "           \"max_iter\" : [50, 100, 150, 200]}\n",
    " \n",
    "mlp_cv_grid = GridSearchCV(estimator = mlp_grid, param_grid = param_grid, cv = 3,\n",
    "                                scoring = 'accuracy')\n",
    "mlp_cv_grid.fit(X_train, y_train)\n",
    "mlp_cv_grid.best_estimator_"
   ]
  },
  {
   "cell_type": "code",
   "execution_count": 23,
   "metadata": {
    "collapsed": false
   },
   "outputs": [
    {
     "name": "stdout",
     "output_type": "stream",
     "text": [
      "Train Accuracy  :   0.7337057728119181\n",
      "Test Accuracy   :   0.7489177489177489\n"
     ]
    }
   ],
   "source": [
    "sklearn_mlp_train_preds = mlp_cv_grid.best_estimator_.predict(X_train)\n",
    "sklearn_mlp_test_preds = mlp_cv_grid.best_estimator_.predict(X_test)\n",
    "\n",
    "print(\"Train Accuracy  :  \",accuracy_score(y_train,sklearn_mlp_train_preds))\n",
    "print(\"Test Accuracy   :  \",accuracy_score(y_test,sklearn_mlp_test_preds))"
   ]
  }
 ],
 "metadata": {
  "kernelspec": {
   "display_name": "Python [default]",
   "language": "python",
   "name": "python3"
  },
  "language_info": {
   "codemirror_mode": {
    "name": "ipython",
    "version": 3
   },
   "file_extension": ".py",
   "mimetype": "text/x-python",
   "name": "python",
   "nbconvert_exporter": "python",
   "pygments_lexer": "ipython3",
   "version": "3.5.6"
  }
 },
 "nbformat": 4,
 "nbformat_minor": 2
}
